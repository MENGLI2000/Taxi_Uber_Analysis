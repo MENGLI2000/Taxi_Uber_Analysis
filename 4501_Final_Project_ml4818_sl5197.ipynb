{
 "cells": [
  {
   "cell_type": "markdown",
   "id": "2f75fd94",
   "metadata": {
    "id": "2f75fd94"
   },
   "source": [
    "## Project Setup"
   ]
  },
  {
   "cell_type": "code",
   "execution_count": 42,
   "id": "66dcde05",
   "metadata": {
    "id": "66dcde05"
   },
   "outputs": [],
   "source": [
    " # Import setup\n",
    "import re\n",
    "import math\n",
    "import bs4\n",
    "import folium\n",
    "import requests\n",
    "import numpy as np\n",
    "import pandas as pd\n",
    "import sqlalchemy as db\n",
    "import geopandas as gpd\n",
    "import matplotlib.pyplot as plt\n",
    "\n",
    "from celluloid import Camera \n",
    "from datetime import datetime\n",
    "from IPython.display import HTML\n",
    "from folium.plugins import HeatMap\n",
    "from math import radians, sin, cos, acos\n",
    "from matplotlib.animation import FuncAnimation\n"
   ]
  },
  {
   "cell_type": "code",
   "execution_count": 43,
   "id": "3f1242c4",
   "metadata": {
    "id": "3f1242c4"
   },
   "outputs": [],
   "source": [
    "TAXI_URL = \"https://www1.nyc.gov/site/tlc/about/tlc-trip-record-data.page\"\n",
    "UBER_CSV = \"uber_rides_sample.csv\"\n",
    "\n",
    "NEW_YORK_BOX_COORDS = ((40.560445, -74.242330), (40.908524, -73.717047))\n",
    "\n",
    "DATABASE_URL = \"sqlite:///project.db\"\n",
    "DATABASE_SCHEMA_FILE = \"schema.sql\"\n",
    "QUERY_DIRECTORY = \"queries\""
   ]
  },
  {
   "cell_type": "code",
   "execution_count": null,
   "id": "c265b266",
   "metadata": {},
   "outputs": [],
   "source": [
    "# Use shp file to obatin latitude/longitude coordinates with location ID\n",
    "gdf = gpd.read_file(filename='taxi_zones', engine='fiona')\n",
    "gdf = gdf.to_crs(4326)\n",
    "\n",
    "gdf['longitude'] = gdf.centroid.x\n",
    "gdf['latitude'] = gdf.centroid.y\n",
    "\n",
    "# Some location IDs are duplicated so those IDs are removed \n",
    "gdf.drop_duplicates('LocationID',inplace=True)\n",
    "gdf.set_index('LocationID',inplace=True)"
   ]
  },
  {
   "cell_type": "markdown",
   "id": "26ad10ea",
   "metadata": {
    "id": "26ad10ea"
   },
   "source": [
    "# **Part 1: Data Preprocessing**"
   ]
  },
  {
   "cell_type": "markdown",
   "id": "5J5gZWdPyJvN",
   "metadata": {
    "id": "5J5gZWdPyJvN"
   },
   "source": [
    "**In this part 1, there are 4 main steps:**\n",
    "\n",
    "1) Calculates the distance between two coordinates in kilometers that only uses the math module\n",
    "\n",
    "2) Preprocess Uber data:\n",
    "\n",
    "-Remove unnecessary columns\n",
    "\n",
    "-Remove invalid data points\n",
    "\n",
    "-Normalize column names\n",
    "\n",
    "-Remove trips that start and/or end outside the designated coordinate box\n",
    "\n",
    "3) Preprocess Taxi data:\n",
    "\n",
    "-Use the re module, and the packages requests, BeautifulSoup (bs4), \n",
    "and pandas to programmatically download the required Parquet files.\n",
    "\n",
    "-Clean and sample the Taxi data from 01-2009 to 06-2015, and combine them into a large dataframe (Match data size with Uber)\n",
    "\n",
    "-Same processes with those in preprocessing Uber data\n",
    "\n",
    "4) Preprocess Weather data:\n",
    "\n",
    "- Only keep the relevant columns: date, precipitation, wind speed and sunset/sunrise (for extra credit) data.\n",
    "\n",
    "- For hourly date, filter out the hour with minute 51 as the base hourly data; For daily date, filter out 23:59 as the base daily data (which contains the daily precipitation/wind/sunset/sunrise data already).\n",
    "\n",
    "- For missing values in hourly data, we simply fill in with 0 as there were no reported/observed value, and replace \"T\" (trace value) with 0 as well. For missing values in daily data, we fill in using the hourly data, with the total sum of hourly precipitation in a day and the average of hourly wind speed in a day. Pandas.groupby() function is the main method.\n",
    "\n",
    "**For each part, we add test parts for testing. Therefore, the results can be shown directly.**\n"
   ]
  },
  {
   "cell_type": "markdown",
   "id": "32074561",
   "metadata": {
    "id": "32074561"
   },
   "source": [
    "## **1.1 Calculating distance**\n",
    "\n",
    "We calculate the distance between two coordinates (pickup and dropoff) in kilometers that only uses the math module.\n",
    "\n",
    "This method adopts the Haversine formula and the 6371km is the radius of the earth.\n",
    "\n",
    "The test part is after the processing uber data."
   ]
  },
  {
   "cell_type": "code",
   "execution_count": 44,
   "id": "4cbbe6cc",
   "metadata": {
    "id": "4cbbe6cc"
   },
   "outputs": [],
   "source": [
    "def calculate_distance(lon1,lat1,lon2,lat2):\n",
    "    \"\"\"Use math module to calculate distance with lat and lon\n",
    "       Return a distance list\n",
    "    \"\"\"\n",
    "\n",
    "    dist=[]\n",
    "    radius = 6371 # km\n",
    "\n",
    "    # Use math to calculate distance\n",
    "    for i in range(len(lat2)):\n",
    "        dlat = math.radians(lat2[i]-lat1[i])\n",
    "        dlon = math.radians(lon2[i]-lon1[i])\n",
    "\n",
    "        a = math.sin(dlat/2) * math.sin(dlat/2) + math.cos(math.radians(lat1[i]))\\\n",
    "        * math.cos(math.radians(lat2[i])) * math.sin(dlon/2) * math.sin(dlon/2)\n",
    "\n",
    "        c = 2 * math.atan2(math.sqrt(a), math.sqrt(1-a))\n",
    "        d = radius * c\n",
    "        dist.append(d)\n",
    "\n",
    "    return dist"
   ]
  },
  {
   "cell_type": "code",
   "execution_count": 45,
   "id": "6d6abf52",
   "metadata": {
    "id": "6d6abf52"
   },
   "outputs": [],
   "source": [
    "def add_distance_column(dataframe):\n",
    "    \"\"\"Add calculated distance to the dataframe\"\"\"\n",
    "    \n",
    "    # Change format into float\n",
    "    dataframe['pickup_longitude'] = dataframe['pickup_longitude'].astype(float) \n",
    "    dataframe['dropoff_longitude'] = dataframe['dropoff_longitude'].astype(float)\n",
    "    dataframe['pickup_latitude'] = dataframe['pickup_latitude'].astype(float)\n",
    "    dataframe['dropoff_latitude'] = dataframe['dropoff_latitude'].astype(float)\n",
    "    \n",
    "    # Reset index\n",
    "    lat1 = dataframe['pickup_latitude'].reset_index(drop=True)\n",
    "    lon2 = dataframe['dropoff_longitude'].reset_index(drop=True)\n",
    "    lon1 = dataframe['pickup_longitude'].reset_index(drop=True)\n",
    "    lat2 = dataframe['dropoff_latitude'].reset_index(drop=True)\n",
    "\n",
    "\n",
    "    dataframe['distance']=calculate_distance(lon1,lat1,lon2,lat2)\n",
    "\n",
    "    return dataframe"
   ]
  },
  {
   "cell_type": "markdown",
   "id": "094b4d6d",
   "metadata": {
    "id": "094b4d6d"
   },
   "source": [
    "## **1.2 Processing Uber Data**\n",
    "\n",
    "We process the uber data by removing unnecessary columns, invalid data points and trips that start and/or end outside the designated coordinate box. We also normalize column names and add day and hour columns for further analysis.\n"
   ]
  },
  {
   "cell_type": "code",
   "execution_count": 46,
   "id": "7c58e3a2",
   "metadata": {
    "id": "7c58e3a2"
   },
   "outputs": [],
   "source": [
    "def load_and_clean_uber_data(csv_file):\n",
    "    \"\"\"Load Uber csv and remove the NaN andtrips outside the box;\n",
    "       Add specific day and hour for each row in Uber files for further analysis\n",
    "    \"\"\"\n",
    "    Uber_File1 = pd.read_csv(csv_file)\n",
    "\n",
    "    # Remove NaN\n",
    "    Uber_File1.dropna(axis=0, how='any', inplace=True)\n",
    "    \n",
    "    # Remove the trips outside the box\n",
    "    Uber_File2 = Uber_File1[\n",
    "                      (-73.717047 >= Uber_File1.pickup_longitude)\\\n",
    "                      &(Uber_File1.pickup_longitude >= -74.242330)&(-73.717047 >= Uber_File1.dropoff_longitude)\\\n",
    "                      &(Uber_File1.dropoff_longitude >= -74.242330)\\\n",
    "                      &(40.908524 >= Uber_File1.pickup_latitude)&(Uber_File1.pickup_latitude >= 40.560445)\\\n",
    "                      &(40.908524 >= Uber_File1.dropoff_latitude)&(Uber_File1.dropoff_latitude >= 40.560445)]\n",
    "    \n",
    "    # Change the data format\n",
    "    Uber_File2['pickup_datetime'] = pd.to_datetime(Uber_File2['pickup_datetime'])\n",
    "\n",
    "    # Obtain specific day and hour for each row\n",
    "    Uber_File2['pickup_day'] = Uber_File2['pickup_datetime'].apply(lambda x:'{}-{}-{}'.format(x.year,x.month,x.day))\n",
    "    Uber_File2['pickup_day'] = pd.to_datetime(Uber_File2['pickup_day'])\n",
    "    Uber_File2['pickup_hour'] = Uber_File2['pickup_datetime'].apply(lambda x:x.hour)\n",
    "\n",
    "    # Remove unnecessary columns\n",
    "    Uber_File2 = Uber_File2[[\n",
    "                        'pickup_datetime','pickup_day','pickup_hour','pickup_longitude',\n",
    "                        'pickup_latitude','dropoff_longitude','dropoff_latitude']]\n",
    "    \n",
    "    da = Uber_File2['pickup_datetime'].apply(lambda x: datetime.strftime( x,'%Y-%m-%d %H:%M:%S'))\n",
    "    Uber_File2['pickup_datetime'] = pd.to_datetime(da)\n",
    "        \n",
    "\n",
    "    return Uber_File2"
   ]
  },
  {
   "cell_type": "code",
   "execution_count": 47,
   "id": "f836f118",
   "metadata": {
    "id": "f836f118"
   },
   "outputs": [],
   "source": [
    "def get_uber_data():\n",
    "    \"\"\" Load and clean the Uber data;\n",
    "        Add the distance column to the original Uber data\n",
    "    \"\"\"\n",
    "    uber_dataframe = load_and_clean_uber_data(UBER_CSV)\n",
    "    add_distance_column(uber_dataframe)\n",
    "    return uber_dataframe"
   ]
  },
  {
   "cell_type": "markdown",
   "id": "L5mBGlAMgvhx",
   "metadata": {
    "id": "L5mBGlAMgvhx"
   },
   "source": [
    "## **Test** **Part** \n",
    "for Processing Uber data and Calculating distance"
   ]
  },
  {
   "cell_type": "code",
   "execution_count": 49,
   "id": "178b4673",
   "metadata": {},
   "outputs": [
    {
     "data": {
      "text/html": [
       "<div>\n",
       "<style scoped>\n",
       "    .dataframe tbody tr th:only-of-type {\n",
       "        vertical-align: middle;\n",
       "    }\n",
       "\n",
       "    .dataframe tbody tr th {\n",
       "        vertical-align: top;\n",
       "    }\n",
       "\n",
       "    .dataframe thead th {\n",
       "        text-align: right;\n",
       "    }\n",
       "</style>\n",
       "<table border=\"1\" class=\"dataframe\">\n",
       "  <thead>\n",
       "    <tr style=\"text-align: right;\">\n",
       "      <th></th>\n",
       "      <th>pickup_datetime</th>\n",
       "      <th>pickup_day</th>\n",
       "      <th>pickup_hour</th>\n",
       "      <th>pickup_longitude</th>\n",
       "      <th>pickup_latitude</th>\n",
       "      <th>dropoff_longitude</th>\n",
       "      <th>dropoff_latitude</th>\n",
       "      <th>distance</th>\n",
       "    </tr>\n",
       "  </thead>\n",
       "  <tbody>\n",
       "    <tr>\n",
       "      <th>0</th>\n",
       "      <td>2015-05-07 19:52:06</td>\n",
       "      <td>2015-05-07</td>\n",
       "      <td>19</td>\n",
       "      <td>-73.999817</td>\n",
       "      <td>40.738354</td>\n",
       "      <td>-73.999512</td>\n",
       "      <td>40.723217</td>\n",
       "      <td>1.683323</td>\n",
       "    </tr>\n",
       "    <tr>\n",
       "      <th>1</th>\n",
       "      <td>2009-07-17 20:04:56</td>\n",
       "      <td>2009-07-17</td>\n",
       "      <td>20</td>\n",
       "      <td>-73.994355</td>\n",
       "      <td>40.728225</td>\n",
       "      <td>-73.994710</td>\n",
       "      <td>40.750325</td>\n",
       "      <td>2.457590</td>\n",
       "    </tr>\n",
       "    <tr>\n",
       "      <th>2</th>\n",
       "      <td>2009-08-24 21:45:00</td>\n",
       "      <td>2009-08-24</td>\n",
       "      <td>21</td>\n",
       "      <td>-74.005043</td>\n",
       "      <td>40.740770</td>\n",
       "      <td>-73.962565</td>\n",
       "      <td>40.772647</td>\n",
       "      <td>5.036377</td>\n",
       "    </tr>\n",
       "    <tr>\n",
       "      <th>3</th>\n",
       "      <td>2009-06-26 08:22:21</td>\n",
       "      <td>2009-06-26</td>\n",
       "      <td>8</td>\n",
       "      <td>-73.976124</td>\n",
       "      <td>40.790844</td>\n",
       "      <td>-73.965316</td>\n",
       "      <td>40.803349</td>\n",
       "      <td>1.661683</td>\n",
       "    </tr>\n",
       "    <tr>\n",
       "      <th>4</th>\n",
       "      <td>2014-08-28 17:47:00</td>\n",
       "      <td>2014-08-28</td>\n",
       "      <td>17</td>\n",
       "      <td>-73.925023</td>\n",
       "      <td>40.744085</td>\n",
       "      <td>-73.973082</td>\n",
       "      <td>40.761247</td>\n",
       "      <td>4.475450</td>\n",
       "    </tr>\n",
       "  </tbody>\n",
       "</table>\n",
       "</div>"
      ],
      "text/plain": [
       "      pickup_datetime pickup_day  pickup_hour  pickup_longitude  \\\n",
       "0 2015-05-07 19:52:06 2015-05-07           19        -73.999817   \n",
       "1 2009-07-17 20:04:56 2009-07-17           20        -73.994355   \n",
       "2 2009-08-24 21:45:00 2009-08-24           21        -74.005043   \n",
       "3 2009-06-26 08:22:21 2009-06-26            8        -73.976124   \n",
       "4 2014-08-28 17:47:00 2014-08-28           17        -73.925023   \n",
       "\n",
       "   pickup_latitude  dropoff_longitude  dropoff_latitude  distance  \n",
       "0        40.738354         -73.999512         40.723217  1.683323  \n",
       "1        40.728225         -73.994710         40.750325  2.457590  \n",
       "2        40.740770         -73.962565         40.772647  5.036377  \n",
       "3        40.790844         -73.965316         40.803349  1.661683  \n",
       "4        40.744085         -73.973082         40.761247  4.475450  "
      ]
     },
     "execution_count": 49,
     "metadata": {},
     "output_type": "execute_result"
    }
   ],
   "source": [
    "# Test for get_uber_data and adding distance\n",
    "A = get_uber_data()\n",
    "A.head()"
   ]
  },
  {
   "cell_type": "markdown",
   "id": "93daa717",
   "metadata": {
    "id": "93daa717"
   },
   "source": [
    "## **1.3  Processing Taxi Data**\n",
    "\n",
    "Firstly, we use the re module, and the packages requests, BeautifulSoup (bs4), \n",
    "and pandas to download required Parquet files.\n",
    "\n",
    "Test part is after the function part."
   ]
  },
  {
   "cell_type": "code",
   "execution_count": 50,
   "id": "cbd0d198",
   "metadata": {
    "id": "cbd0d198"
   },
   "outputs": [],
   "source": [
    "def find_taxi_csv_urls():\n",
    "    \"\"\" Use requests & Beatifulsoup to find Parquet link for taxi data\n",
    "        Adopt a regex for finding desired data\n",
    "    \"\"\"\n",
    "\n",
    "    response = requests.get(TAXI_URL)\n",
    "    if response.status_code!=200:\n",
    "        return 'Failure to request'\n",
    "      \n",
    "    try:\n",
    "        html = response.content\n",
    "        links = []\n",
    "        soup = bs4.BeautifulSoup(html, \"html.parser\")\n",
    "        a = soup.find_all('a')\n",
    "\n",
    "        # Use regex for finding data\n",
    "        pattern = r\"<a href=\\\"(.*\\.parquet)\\\" title=\\\"Yellow Taxi Trip Records\\\">Yellow Taxi Trip Records</a>\"\n",
    "        for item in a:\n",
    "            match = re.search(pattern,str(item))\n",
    "            if match:\n",
    "                for i in match.groups():links.append(i)\n",
    "    except:\n",
    "        return 'Scraping Failure'\n",
    "            \n",
    "    return links"
   ]
  },
  {
   "cell_type": "markdown",
   "id": "bq7HMn8zh6gV",
   "metadata": {
    "id": "bq7HMn8zh6gV"
   },
   "source": [
    "\n",
    "## **Test Part** \n",
    "for find_taxi_csv_urls()"
   ]
  },
  {
   "cell_type": "code",
   "execution_count": 51,
   "id": "iJNgNbWUh562",
   "metadata": {
    "colab": {
     "base_uri": "https://localhost:8080/"
    },
    "id": "iJNgNbWUh562",
    "outputId": "8c1c37a6-701c-4d9e-c4db-0bf1a31b8b5f"
   },
   "outputs": [
    {
     "name": "stdout",
     "output_type": "stream",
     "text": [
      "There are 165 taxi urls,and https://d37ci6vzurychx.cloudfront.net/trip-data/yellow_tripdata_2014-08.parquet is one of them\n"
     ]
    }
   ],
   "source": [
    "A = find_taxi_csv_urls()\n",
    "print(f'There are {len(A)} taxi urls,and {A[100]} is one of them')"
   ]
  },
  {
   "cell_type": "markdown",
   "id": "WGXRuMad3rTt",
   "metadata": {
    "id": "WGXRuMad3rTt"
   },
   "source": [
    "\n",
    "Secondly, we read each parquet file and clean it with the same process in processing Uber data. \n",
    "\n",
    "During this process, we also sample each Taxi file for matching the Uber file size.\n",
    "\n",
    "Test part is after the function.\n",
    "\n",
    "\n",
    "\n"
   ]
  },
  {
   "cell_type": "code",
   "execution_count": 52,
   "id": "c6507894",
   "metadata": {
    "id": "c6507894"
   },
   "outputs": [],
   "source": [
    "def get_and_clean_month_taxi_data(url):\n",
    "    \"\"\" Read the content in url from find_taxi_csv_urls()\n",
    "       Change the columns names and Change the ID into lon and lat\n",
    "       Remove unnecessary columns, NAN and invalid data points\n",
    "       Sample Taxi data for matching Uber file size\n",
    "    \"\"\"\n",
    "    response = requests.get(url,stream=True)\n",
    "    with open(\"Final project_YT data.parquet\", \"wb\") as f:\n",
    "        for chunk in response.iter_content(chunk_size=1024): \n",
    "            if chunk:\n",
    "                f.write(chunk)\n",
    "\n",
    "    with open(\"Final project_YT data.parquet\", \"rb\") as f:\n",
    "    # Only read 4096 bytes - otherwise Jupyter crashes!\n",
    "     Taxi_data = f.read(4096)\n",
    "\n",
    "    Taxi_data = pd.read_parquet(\"Final project_YT data.parquet\")\n",
    "\n",
    "\n",
    "    # Uniform column names \n",
    "    Taxi_data.rename(columns={\n",
    "                          'tpep_pickup_datetime':'pickup_datetime',\n",
    "                          'Trip_Pickup_DateTime':'pickup_datetime',\n",
    "                          'Trip_Dropoff_DateTime':'dropoff_datetime',\n",
    "                          'Start_Lon':'pickup_longitude', \n",
    "                          'Start_Lat':'pickup_latitude', 'End_Lon':'dropoff_longitude',\n",
    "                          'End_Lat':'dropoff_latitude','Tip_Amt':'tip_amount'}, inplace=True)\n",
    "\n",
    "\n",
    "\n",
    "    # Change the ID into lon and lat, there are some files without changing ID\n",
    "    if 'DOLocationID' in Taxi_data.columns:\n",
    "        Taxi_data['pickup_latitude'] = Taxi_data['PULocationID'].map(gdf['latitude'])\n",
    "        Taxi_data['pickup_longitude'] = Taxi_data['PULocationID'].map(gdf['longitude'])\n",
    "        Taxi_data['dropoff_latitude'] = Taxi_data['DOLocationID'].map(gdf['latitude'])\n",
    "        Taxi_data['dropoff_longitude'] = Taxi_data['DOLocationID'].map(gdf['longitude'])\n",
    "\n",
    "    Taxi_data_new = Taxi_data\n",
    "\n",
    "    # Obtain columns/remove unnecessary columns\n",
    "    # Because Uber has no dropoff_datetime, we only choose pickup_datetime for Uber and Taxi for uniformity\n",
    "    # As for Q3 in Part4, we take dropoff_day and pickup_day as equal\n",
    "    Taxi_data_new = Taxi_data_new[['pickup_datetime','tip_amount',\n",
    "                              'pickup_longitude','pickup_latitude',\n",
    "                              'dropoff_longitude','dropoff_latitude']]\n",
    "\n",
    "    # Remove NaN\n",
    "    Taxi_data_new.dropna(axis=0, how='any', inplace=True)\n",
    "\n",
    "    # Remove the trips outside the box\n",
    "    Taxi_data_new2 = Taxi_data_new[\n",
    "                      (-73.717047>=Taxi_data_new.pickup_longitude)&(Taxi_data_new.pickup_longitude>=-74.242330)\\\n",
    "                      &(-73.717047>=Taxi_data_new.dropoff_longitude)&(Taxi_data_new.dropoff_longitude>=-74.242330)\\\n",
    "                      &(40.908524>=Taxi_data_new.pickup_latitude)&(Taxi_data_new.pickup_latitude>=40.560445)\\\n",
    "                      &(40.908524>=Taxi_data_new.dropoff_latitude)&(Taxi_data_new.dropoff_latitude>=40.560445)]\n",
    "\n",
    "    # Remove invalid data points\n",
    "    Taxi_data_new2 = Taxi_data_new2[Taxi_data_new2['tip_amount'] >= 0]\n",
    "\n",
    "\n",
    "    # Sample Taxi data for matching Uber(195472 rows), 80 files for Taxi data\n",
    "    # 195472/80 = 2444\n",
    "    T_data_sampled = Taxi_data_new2.sample(n=2444,replace=False,random_state=None)\n",
    "\n",
    "    T_data_sampled['pickup_datetime'] = pd.to_datetime(T_data_sampled['pickup_datetime'])\n",
    "\n",
    "    return T_data_sampled"
   ]
  },
  {
   "cell_type": "markdown",
   "id": "XSTsOBd74MTC",
   "metadata": {
    "id": "XSTsOBd74MTC"
   },
   "source": [
    "\n",
    "Finally, we combine the Taxi files from 06-2015 to 01-2009 and clean them "
   ]
  },
  {
   "cell_type": "code",
   "execution_count": null,
   "id": "35c9c0cd",
   "metadata": {
    "id": "35c9c0cd"
   },
   "outputs": [],
   "source": [
    "def get_and_clean_taxi_data():\n",
    "    \"\"\"Choose Taxi files from 06-2015 to 01-2009\n",
    "       Combine into a large dataframe\n",
    "       Add observing progress signals\n",
    "    \"\"\"\n",
    "    all_taxi_dataframes = []\n",
    "    \n",
    "    # For observing progress\n",
    "    count = 0\n",
    "    \n",
    "    # Choose files from 06-2015 to 01-2009\n",
    "    all_csv_url = find_taxi_csv_urls()[86:]\n",
    "    for csv_url in all_csv_url:\n",
    "        file_name = csv_url.split('/')[-1]\n",
    "\n",
    "        dataframe = get_and_clean_month_taxi_data(csv_url)\n",
    "        dataframe = add_distance_column(dataframe)\n",
    "        dataframe = dataframe[dataframe['distance']> 0]\n",
    "        \n",
    "   \n",
    "        all_taxi_dataframes.append(dataframe)\n",
    "        count+=1\n",
    "        print('Have Cleaned',file_name)\n",
    "        \n",
    "    # Create one gigantic dataframe with data from every month needed\n",
    "    taxi_data = pd.concat(all_taxi_dataframes)\n",
    "    taxi_data['pickup_datetime'] = pd.to_datetime(taxi_data['pickup_datetime'])\n",
    "    taxi_data = taxi_data[['pickup_datetime','tip_amount',\n",
    "                              'pickup_longitude','pickup_latitude',\n",
    "                              'dropoff_longitude','dropoff_latitude','distance']]\n",
    "    return taxi_data"
   ]
  },
  {
   "cell_type": "markdown",
   "id": "45a15cbb",
   "metadata": {
    "id": "45a15cbb"
   },
   "source": [
    "## **1.4 Processing Weather Data**\n",
    "\n",
    "- Only keep the relevant columns: date, precipitation, wind speed and sunset/sunrise (for extra credit) data.\n",
    "\n",
    "- For hourly date, filter out the hour with minute 51 as the base hourly data; For daily date, filter out 23:59 as the base daily data (which contains the daily precipitation/wind/sunset/sunrise data already).\n",
    "\n",
    "- For missing values in hourly data, we simply fill in with 0 as there were no reported/observed value, and replace \"T\" (trace value) with 0 as well. For missing values in daily data, we fill in using the hourly data, with the total sum of hourly precipitation in a day and the average of hourly wind speed in a day. Pandas.groupby() function is the main method.\n"
   ]
  },
  {
   "cell_type": "code",
   "execution_count": 54,
   "id": "76e864ab",
   "metadata": {
    "id": "76e864ab"
   },
   "outputs": [],
   "source": [
    "def clean_month_weather_data_hourly(csv_file):\n",
    "    \"\"\"\n",
    "    Here we clean the hourly weather data. First drop irrelevant columns, then only keep the hour with minute=51, so that there will be no duplicates within an hour. \n",
    "    Next, clean the precipitation data, replacing \"T\" with 0, null/blank with 0, and drop the \"s\" at the end of some values.\n",
    "    Finally, reset the index from 1 to the very end and return the dataframe.\n",
    "    \"\"\"\n",
    "    \n",
    "    df_hourly = pd.read_csv(csv_file)\n",
    "    df_hourly['DATE'] = pd.to_datetime(df_hourly['DATE'])\n",
    "\n",
    "    # Only keep the precipitation and wind speed columns\n",
    "    df_hourly = df_hourly[['DATE','HourlyPrecipitation','HourlyWindSpeed']]\n",
    "\n",
    "    # Only keep the date time whose minute = 51, so as to create exact 24 hours per day\n",
    "    df_hourly = df_hourly[df_hourly['DATE'].dt.minute==51]\n",
    "    \n",
    "    # Clean the precipitation column, null/blank means no rain\n",
    "    df_hourly[\"HourlyPrecipitation\"].fillna(0, inplace=True)\n",
    "    df_hourly[\"HourlyWindSpeed\"].fillna(0, inplace=True)\n",
    "    \n",
    "    # Data cleaning: \"T\" means trace amount, \"s\" at the end means suspect value\n",
    "    df_hourly.loc[df_hourly['HourlyPrecipitation']==\"T\", 'HourlyPrecipitation'] = 0\n",
    "    df_hourly.loc[df_hourly.HourlyPrecipitation.str.endswith('s', na=False), 'HourlyPrecipitation']\\\n",
    "    = df_hourly['HourlyPrecipitation'].str[:-1]\n",
    "    \n",
    "    df_hourly['HourlyPrecipitation'] = pd.to_numeric(df_hourly['HourlyPrecipitation'])\n",
    "    df_hourly = df_hourly.reset_index(drop=True)\n",
    "    \n",
    "    return df_hourly"
   ]
  },
  {
   "cell_type": "code",
   "execution_count": 55,
   "id": "ebd9165e",
   "metadata": {
    "id": "ebd9165e"
   },
   "outputs": [],
   "source": [
    "def groupbydate(csv_file):\n",
    "    \"\"\"\n",
    "    This function is aimed to converting the hourly data to daily data using Pandas.groupby function. \n",
    "    Get the date of each hour, group each rows by the respective date.\n",
    "    The daily precipitation = sum of hourly precipitation; daily wind speed = mean of hourly precipitation within a day.\n",
    "    \"\"\"\n",
    "    df_hourly = clean_month_weather_data_hourly(csv_file)\n",
    "    df_hourly['date'] = df_hourly['DATE'].dt.date\n",
    "\n",
    "    precipitation = df_hourly.groupby(['date']).sum()['HourlyPrecipitation']\n",
    "    windSpeed = df_hourly.groupby(['date']).mean()['HourlyWindSpeed']\n",
    "\n",
    "    df_group = pd.concat((precipitation, windSpeed), axis=1)\n",
    "\n",
    "    return df_group"
   ]
  },
  {
   "cell_type": "code",
   "execution_count": 56,
   "id": "Ko8_6Kqvfb8n",
   "metadata": {
    "id": "Ko8_6Kqvfb8n"
   },
   "outputs": [],
   "source": [
    "def suntime(csv_file):\n",
    "    \"\"\"\n",
    "    For extra credits: Record the sunset/sunrise time of every day\n",
    "    \"\"\"\n",
    "    df = pd.read_csv(csv_file)\n",
    "    df['DATE'] = pd.to_datetime(df['DATE'])\n",
    "    df = df[['DATE','Sunrise','Sunset']]\n",
    "    \n",
    "    # drop all rows with nan values\n",
    "    df = df.dropna()\n",
    "    df['Sunrise'] = df['Sunrise'].astype(int)\n",
    "    df['Sunset'] = df['Sunset'].astype(int)\n",
    "    df['Sunrise_minute'] = 0\n",
    "    df['Sunset_minute'] = 0\n",
    "    \n",
    "    # Convert the sunset/sunrise time into datetime type\n",
    "    for i in range(0,len(df)):\n",
    "        df['Sunrise_minute'].iloc[i] = datetime(df['DATE'].iloc[i].year, df['DATE'].iloc[i].month, df['DATE'].iloc[i].day, \n",
    "                                                df['Sunrise'].iloc[i] // 100, df['Sunrise'].iloc[i] % 100)\n",
    "        df['Sunset_minute'].iloc[i] = datetime(df['DATE'].iloc[i].year, df['DATE'].iloc[i].month, df['DATE'].iloc[i].day, \n",
    "                                               df['Sunset'].iloc[i] // 100, df['Sunset'].iloc[i] % 100)\n",
    "    df = df[['DATE','Sunrise_minute','Sunset_minute']]\n",
    "\n",
    "    return df"
   ]
  },
  {
   "cell_type": "code",
   "execution_count": 57,
   "id": "0687581f",
   "metadata": {
    "id": "0687581f"
   },
   "outputs": [],
   "source": [
    "def clean_month_weather_data_daily(csv_file):\n",
    "    \"\"\"\n",
    "    First drop the irrelevant column. Then only keep the hour 23:59 of every day as the daily time data.\n",
    "    Load the groupby function to get the synthesized hourly data for the missing values in the columns.\n",
    "    \"\"\"\n",
    "    df_daily = pd.read_csv(csv_file)\n",
    "    df_daily['DATE'] = pd.to_datetime(df_daily['DATE'])\n",
    "\n",
    "    # Only keep the precipitation and wind speed columns\n",
    "    df_daily = df_daily[['DATE','DailyPrecipitation','DailyAverageWindSpeed','Sunrise','Sunset']]\n",
    "    \n",
    "    # Filter out the missing value in the daily columns\n",
    "    df_daily['Sunvalue'] = np.where(df_daily['Sunrise'].notnull(),1,0)\n",
    "    df_daily = df_daily[df_daily['Sunvalue']==1]\n",
    "\n",
    "    # Create a date column and set the date as index\n",
    "    df_daily['date'] = df_daily['DATE'].dt.date\n",
    "    df_daily = df_daily.set_index(['date'])\n",
    "    df_daily = df_daily[['DailyPrecipitation', 'DailyAverageWindSpeed']]\n",
    "    \n",
    "    # Group the hourly data to get an estimate of daily data\n",
    "    df_group = groupbydate(csv_file)\n",
    "    daily_weather = pd.concat([df_group,df_daily], axis=1,join='outer')\n",
    "\n",
    "    # DailyPrecipitation is sum of Hourly Precipitation, DailyAverageWindSpeed is mean of HourlyWindSpeed\n",
    "    daily_weather['DailyPrecipitation'] = daily_weather['DailyPrecipitation'].fillna(daily_weather['HourlyPrecipitation'])\n",
    "    daily_weather['DailyAverageWindSpeed'] = daily_weather['DailyAverageWindSpeed'].fillna(daily_weather['HourlyWindSpeed'])\n",
    "    \n",
    "    daily_weather = daily_weather[['DailyPrecipitation','DailyAverageWindSpeed']]\n",
    "    daily_weather.reset_index(inplace=True)\n",
    "    \n",
    "    return daily_weather"
   ]
  },
  {
   "cell_type": "code",
   "execution_count": 58,
   "id": "3ef8945d",
   "metadata": {
    "id": "3ef8945d"
   },
   "outputs": [],
   "source": [
    "def load_and_clean_weather_data():\n",
    "    \"\"\"\n",
    "    Load all the weather data and return 3 dataframes: hourly, data, sunrise/sunset respectively.\n",
    "    \"\"\"\n",
    "    hourly_dataframes = []\n",
    "    daily_dataframes = []\n",
    "    sun_dataframes = []\n",
    "    \n",
    "    weather_csv_files = [\n",
    "        \"2009_weather.csv\",\"2010_weather.csv\",\"2011_weather.csv\",\"2012_weather.csv\",\"2013_weather.csv\",\"2014_weather.csv\",\"2015_weather.csv\"\n",
    "                        ]\n",
    "    \n",
    "    for csv_file in weather_csv_files:\n",
    "        hourly_dataframe = clean_month_weather_data_hourly(csv_file)\n",
    "        daily_dataframe = clean_month_weather_data_daily(csv_file)\n",
    "        sun_dataframe = suntime(csv_file)\n",
    "        hourly_dataframes.append(hourly_dataframe)\n",
    "        daily_dataframes.append(daily_dataframe)\n",
    "        sun_dataframes.append(sun_dataframe)\n",
    "        \n",
    "    # create two dataframes with hourly & daily data from every month\n",
    "    hourly_data = pd.concat(hourly_dataframes)\n",
    "    daily_data = pd.concat(daily_dataframes)\n",
    "    sun_data = pd.concat(sun_dataframes)\n",
    "    \n",
    "    return hourly_data, daily_data, sun_data"
   ]
  },
  {
   "cell_type": "markdown",
   "id": "f900f7aa",
   "metadata": {
    "id": "f900f7aa"
   },
   "source": [
    "## **Process All Data**\n",
    "\n",
    "Execute all the required functions and process all required data."
   ]
  },
  {
   "cell_type": "code",
   "execution_count": null,
   "id": "42af4453",
   "metadata": {},
   "outputs": [],
   "source": [
    "taxi_data = get_and_clean_taxi_data()\n",
    "uber_data = get_uber_data()\n",
    "hourly_weather_data, daily_weather_data, sun_data = load_and_clean_weather_data()"
   ]
  },
  {
   "cell_type": "markdown",
   "id": "dd101f11",
   "metadata": {
    "id": "dd101f11"
   },
   "source": [
    "# **Part 2: Storing Cleaned Data**\n",
    "\n",
    "After cleaning the desired data, we use SQLAlchemy to create a SQLite database, including 4 required tables and 1 extra for sunset/sunrise.\n",
    "\n",
    "( Taxi trips; Uber trips; Hourly weather; Daily weather )"
   ]
  },
  {
   "cell_type": "markdown",
   "id": "m3z1ZiA_6Jr-",
   "metadata": {
    "id": "m3z1ZiA_6Jr-"
   },
   "source": [
    "## **2.1 Create a SQLite database**\n",
    "\n",
    "We create a database, containing required 4 tables and 1 extra table for sunset/sunrise."
   ]
  },
  {
   "cell_type": "code",
   "execution_count": 60,
   "id": "f3529cf6",
   "metadata": {
    "id": "f3529cf6"
   },
   "outputs": [],
   "source": [
    "engine = db.create_engine(DATABASE_URL)"
   ]
  },
  {
   "cell_type": "code",
   "execution_count": 61,
   "id": "59ep2RMBUEwo",
   "metadata": {
    "id": "59ep2RMBUEwo"
   },
   "outputs": [],
   "source": [
    "# Delete tables if exits\n",
    "COMMAND = [\"\"\"\n",
    "DROP TABLE IF EXISTS taxi_trips\n",
    "\"\"\",\"\"\"\n",
    "DROP TABLE IF EXISTS hourly_weather\"\"\",\n",
    "\"\"\"\n",
    "DROP TABLE IF EXISTS daily_weather\n",
    "\"\"\",\n",
    "\"\"\"\n",
    "DROP TABLE IF EXISTS uber_trips\n",
    "\"\"\"]\n",
    "for i in COMMAND:\n",
    "    engine.execute(i)"
   ]
  },
  {
   "cell_type": "code",
   "execution_count": 62,
   "id": "d2bea0ff",
   "metadata": {
    "id": "d2bea0ff"
   },
   "outputs": [],
   "source": [
    "# Create 5 tables/dataframes\n",
    "HOURLY_WEATHER_SCHEMA = \"\"\"\n",
    "CREATE TABLE IF NOT EXISTS hourly_weather\n",
    "(\n",
    "    id INTEGER PRIMARY KEY,\n",
    "    DATE DATE,\n",
    "    HourlyPrecipitation FLOAT,\n",
    "    HourlyWindSpeed FLOAT\n",
    ")\n",
    "\n",
    "\"\"\"\n",
    "\n",
    "DAILY_WEATHER_SCHEMA = \"\"\"\n",
    "CREATE TABLE IF NOT EXISTS daily_weather\n",
    "(\n",
    "    id INTEGER PRIMARY KEY,\n",
    "    date DATE,\n",
    "    DailyPrecipitation FLOAT,\n",
    "    DailyAverageWindSpeed FLOAT,\n",
    ")\n",
    "\n",
    "\"\"\"\n",
    "\n",
    "\n",
    "TAXI_TRIPS_SCHEMA = \"\"\"\n",
    "CREATE TABLE IF NOT EXISTS taxi_trips\n",
    "(\n",
    "    id INTEGER PRIMARY KEY,\n",
    "    pickup_datetime DATETIME,\n",
    "    tip_amount FLOAT,\n",
    "    pickup_longitude FLOAT,\n",
    "    pickup_latitude FLOAT,\n",
    "    dropoff_longitude FLOAT,\n",
    "    dropoff_latitude FLOAT,\n",
    "    distance FLOAT\n",
    ")\n",
    "\n",
    "\n",
    "\"\"\"\n",
    "\n",
    "UBER_TRIPS_SCHEMA = \"\"\"\n",
    "CREATE TABLE IF NOT EXISTS uber_trips\n",
    "(\n",
    "    id INTEGER PRIMARY KEY,\n",
    "    pickup_datetime DATETIME,\n",
    "    pickup_day DATETIME,\n",
    "    pickup_hour INTEGER,\n",
    "    pickup_longitude FLOAT,\n",
    "    pickup_latitude FLOAT,\n",
    "    dropoff_longitude FLOAT,\n",
    "    dropoff_latitude FLOAT,\n",
    "    distance FLOAT\n",
    ")\n",
    "\"\"\"\n",
    "\n",
    "SUN_SCHEMA = \"\"\"\n",
    "CREATE TABLE IF NOT EXISTS sun_time\n",
    "(\n",
    "    id INTEGER PRIMARY KEY,\n",
    "    DATE DATE\n",
    "    Sunrise_minute DATE,\n",
    "    Sunset_minute DATE\n",
    ")\n",
    "\"\"\""
   ]
  },
  {
   "cell_type": "code",
   "execution_count": 63,
   "id": "5f41e54b",
   "metadata": {
    "id": "5f41e54b"
   },
   "outputs": [],
   "source": [
    "# Create that required schema.sql file\n",
    "with open(DATABASE_SCHEMA_FILE, \"w\") as f:\n",
    "    f.write(HOURLY_WEATHER_SCHEMA)\n",
    "    f.write(DAILY_WEATHER_SCHEMA)\n",
    "    f.write(TAXI_TRIPS_SCHEMA)\n",
    "    f.write(UBER_TRIPS_SCHEMA)\n",
    "    f.write(SUN_SCHEMA)"
   ]
  },
  {
   "cell_type": "markdown",
   "id": "c122964f",
   "metadata": {
    "id": "c122964f"
   },
   "source": [
    "## **2.2 Add Data to Database**\n",
    "\n",
    "We add each cleaned dataframe to its matched table.\n",
    "\n",
    "Test part is after the function."
   ]
  },
  {
   "cell_type": "code",
   "execution_count": 64,
   "id": "0e68a363",
   "metadata": {
    "id": "0e68a363"
   },
   "outputs": [],
   "source": [
    "def write_dataframes_to_table(table_to_df_dict):\n",
    "    \"\"\"Obtain the items in map_table_name_to_dataframe\n",
    "       Add each dataframe to its matched table\n",
    "    \"\"\"\n",
    "    A = list(table_to_df_dict.items())\n",
    "\n",
    "    # Add each dataframe to its table\n",
    "    for i in range(len(A)):\n",
    "        A[i][1].to_sql(A[i][0], engine)\n",
    "        print('Creating',A[i][0])\n",
    "        \n"
   ]
  },
  {
   "cell_type": "code",
   "execution_count": 65,
   "id": "45d6c06c",
   "metadata": {
    "id": "45d6c06c"
   },
   "outputs": [],
   "source": [
    "map_table_name_to_dataframe = {\n",
    "    \"taxi_trips\": taxi_data,\n",
    "    \"uber_trips\": uber_data,\n",
    "    \"hourly_weather\": hourly_weather_data,\n",
    "    \"daily_weather\": daily_weather_data,\n",
    "    \"sun_time\": sun_data\n",
    "}"
   ]
  },
  {
   "cell_type": "markdown",
   "id": "jTOynVRdpn-C",
   "metadata": {
    "id": "jTOynVRdpn-C"
   },
   "source": [
    "## **Test** **Part** \n",
    "for write_dataframes_to_table"
   ]
  },
  {
   "cell_type": "markdown",
   "id": "vHScv6mi6l1O",
   "metadata": {
    "id": "vHScv6mi6l1O"
   },
   "source": [
    "If there are four sentences, it means the 4 tables are all put into the database."
   ]
  },
  {
   "cell_type": "code",
   "execution_count": 66,
   "id": "74004f96",
   "metadata": {
    "colab": {
     "base_uri": "https://localhost:8080/"
    },
    "id": "74004f96",
    "outputId": "d2f1d411-fa4d-4e3d-890a-3c7eeff2a02c"
   },
   "outputs": [
    {
     "name": "stdout",
     "output_type": "stream",
     "text": [
      "Creating taxi_trips\n",
      "Creating uber_trips\n",
      "Creating hourly_weather\n",
      "Creating daily_weather\n",
      "Creating sun_time\n"
     ]
    }
   ],
   "source": [
    "write_dataframes_to_table(map_table_name_to_dataframe)"
   ]
  },
  {
   "cell_type": "markdown",
   "id": "8cb6e33e",
   "metadata": {
    "id": "8cb6e33e"
   },
   "source": [
    "# **Part 3: Understanding the Data**"
   ]
  },
  {
   "cell_type": "markdown",
   "id": "b4753fcd",
   "metadata": {
    "id": "b4753fcd"
   },
   "source": [
    "We try to use SQL queries to answer the following 6 questions.\n",
    "\n",
    "* [*] For 01-2009 through 06-2015, what hour of the day was the most popular to take a yellow taxi? The result should have 24 bins.\n",
    "* [*] For the same time frame, what day of the week was the most popular to take an uber? The result should have 7 bins.\n",
    "* [*] What is the 95% percentile of distance traveled for all hired trips during July 2013?\n",
    "* [*] What were the top 10 days with the highest number of hired rides for 2009, and what was the average distance for each day?\n",
    "* [*] Which 10 days in 2014 were the windiest, and how many hired trips were made on those days?\n",
    "* [*] During Hurricane Sandy in NYC (Oct 29-30, 2012) and the week leading up to it, how many trips were taken each hour, and for each hour, how much precipitation did NYC receive and what was the sustained wind speed?"
   ]
  },
  {
   "cell_type": "code",
   "execution_count": 67,
   "id": "6a849e92",
   "metadata": {
    "id": "6a849e92"
   },
   "outputs": [],
   "source": [
    "def write_query_to_file(query, outfile):\n",
    "    \"\"\"Load the 'query' we defined in each section and save it to an sql document called 'outfile'\"\"\"\n",
    "    with open (outfile, 'w') as f:\n",
    "        f.write(query)"
   ]
  },
  {
   "cell_type": "markdown",
   "id": "ee70a777",
   "metadata": {
    "id": "ee70a777"
   },
   "source": [
    "### Query 1\n",
    "Question: For 01-2009 through 06-2015, what hour of the day was the most popular to take a yellow taxi? \n",
    "\n",
    "Answer: 19:00 (7pm-8pm) was the most popular hour to take a yellow taxi."
   ]
  },
  {
   "cell_type": "code",
   "execution_count": 68,
   "id": "db871d3c",
   "metadata": {
    "id": "db871d3c"
   },
   "outputs": [],
   "source": [
    "QUERY_1 = \"\"\"\n",
    "SELECT COUNT(*) AS trips, strftime ('%H',pickup_datetime) AS hour\n",
    "FROM taxi_trips\n",
    "GROUP BY hour\n",
    "ORDER BY trips\n",
    "\"\"\""
   ]
  },
  {
   "cell_type": "code",
   "execution_count": 69,
   "id": "c5275f3a",
   "metadata": {
    "colab": {
     "base_uri": "https://localhost:8080/"
    },
    "id": "c5275f3a",
    "outputId": "a2765bce-f1a3-403a-b001-02ce90d91cc7"
   },
   "outputs": [
    {
     "data": {
      "text/plain": [
       "[(1786, '05'),\n",
       " (2154, '04'),\n",
       " (2945, '03'),\n",
       " (3855, '06'),\n",
       " (4036, '02'),\n",
       " (5449, '01'),\n",
       " (6692, '07'),\n",
       " (7345, '00'),\n",
       " (7675, '16'),\n",
       " (8471, '08'),\n",
       " (8478, '10'),\n",
       " (8699, '09'),\n",
       " (8726, '11'),\n",
       " (8812, '15'),\n",
       " (8930, '13'),\n",
       " (9084, '12'),\n",
       " (9225, '17'),\n",
       " (9350, '23'),\n",
       " (9371, '14'),\n",
       " (10335, '22'),\n",
       " (10690, '21'),\n",
       " (10842, '20'),\n",
       " (10858, '18'),\n",
       " (11538, '19')]"
      ]
     },
     "execution_count": 69,
     "metadata": {},
     "output_type": "execute_result"
    }
   ],
   "source": [
    "engine.execute(QUERY_1).fetchall()"
   ]
  },
  {
   "cell_type": "code",
   "execution_count": 70,
   "id": "a2ef04df",
   "metadata": {
    "id": "a2ef04df"
   },
   "outputs": [],
   "source": [
    "write_query_to_file(QUERY_1, \"hour_popular_taxi.sql\")"
   ]
  },
  {
   "cell_type": "markdown",
   "id": "in4QWVAssQRF",
   "metadata": {
    "id": "in4QWVAssQRF"
   },
   "source": [
    "### Query 2\n",
    "Questions: For the same time frame, what day of the week was the most popular to take an uber? \n",
    "\n",
    "Answer: The 5th day (Friday) was the most popular day to take an uber."
   ]
  },
  {
   "cell_type": "code",
   "execution_count": 71,
   "id": "4oMeEoD7sPc2",
   "metadata": {
    "id": "4oMeEoD7sPc2"
   },
   "outputs": [],
   "source": [
    "QUERY_2 = \"\"\"\n",
    "SELECT COUNT(*) AS trips, strftime ('%w',pickup_datetime) AS day\n",
    "FROM uber_trips\n",
    "GROUP BY day\n",
    "ORDER BY trips\n",
    "\"\"\""
   ]
  },
  {
   "cell_type": "code",
   "execution_count": 72,
   "id": "y1J3jjMYsoN9",
   "metadata": {
    "colab": {
     "base_uri": "https://localhost:8080/"
    },
    "id": "y1J3jjMYsoN9",
    "outputId": "81ca52ee-bf33-4da9-ba9e-154aa8141a6a"
   },
   "outputs": [
    {
     "data": {
      "text/plain": [
       "[(24681, '1'),\n",
       " (25834, '0'),\n",
       " (27526, '2'),\n",
       " (28328, '3'),\n",
       " (29338, '4'),\n",
       " (29599, '6'),\n",
       " (30166, '5')]"
      ]
     },
     "execution_count": 72,
     "metadata": {},
     "output_type": "execute_result"
    }
   ],
   "source": [
    "engine.execute(QUERY_2).fetchall()"
   ]
  },
  {
   "cell_type": "code",
   "execution_count": 73,
   "id": "-v9ZWDSxspoZ",
   "metadata": {
    "id": "-v9ZWDSxspoZ"
   },
   "outputs": [],
   "source": [
    "write_query_to_file(QUERY_2, \"day_popular_taxi.sql\")"
   ]
  },
  {
   "cell_type": "markdown",
   "id": "1ox0wTrjsssD",
   "metadata": {
    "id": "1ox0wTrjsssD"
   },
   "source": [
    "### Query 3\n",
    "Question: What is the 95% percentile of distance traveled for all hired trips during July 2013?\n",
    "\n",
    "Answer: 10.22 miles is the 95% percentile of distance for taxi and uber trips in all."
   ]
  },
  {
   "cell_type": "code",
   "execution_count": 75,
   "id": "rBxDTness5tF",
   "metadata": {
    "id": "rBxDTness5tF"
   },
   "outputs": [],
   "source": [
    "QUERY_3 = \"\"\"\n",
    "WITH all_hired_trips AS (\n",
    "SELECT distance FROM taxi_trips \n",
    "WHERE date(pickup_datetime) BETWEEN '2013-07-01' AND '2013-07-31'\n",
    "UNION ALL\n",
    "SELECT distance FROM uber_trips\n",
    "WHERE date(pickup_datetime) BETWEEN '2013-07-01' AND '2013-07-31')\n",
    "\n",
    "SELECT distance FROM all_hired_trips\n",
    "ORDER BY distance\n",
    "LIMIT 1\n",
    "OFFSET (SELECT COUNT(*) FROM all_hired_trips) * 95 / 100 - 1 ;\n",
    "\"\"\""
   ]
  },
  {
   "cell_type": "code",
   "execution_count": 76,
   "id": "iQK3mTZss6fy",
   "metadata": {
    "colab": {
     "base_uri": "https://localhost:8080/"
    },
    "id": "iQK3mTZss6fy",
    "outputId": "312a11a7-f889-440e-9f1e-6ab1352e04e0"
   },
   "outputs": [
    {
     "data": {
      "text/plain": [
       "[(10.21608572432051,)]"
      ]
     },
     "execution_count": 76,
     "metadata": {},
     "output_type": "execute_result"
    }
   ],
   "source": [
    "engine.execute(QUERY_3).fetchall()"
   ]
  },
  {
   "cell_type": "code",
   "execution_count": 77,
   "id": "xo8PGB-ss8X3",
   "metadata": {
    "id": "xo8PGB-ss8X3"
   },
   "outputs": [],
   "source": [
    "write_query_to_file(QUERY_3, \"95pct_distance.sql\")"
   ]
  },
  {
   "cell_type": "markdown",
   "id": "NeY8iwbWstOK",
   "metadata": {
    "id": "NeY8iwbWstOK"
   },
   "source": [
    "### Query 4\n",
    "Question: What were the top 10 days with the highest number of hired rides for 2009, and what was the average distance for each day?\n",
    "\n",
    "Answer: Please see below which shows the date, average distance for each day, and number of hired rides for these 10 days."
   ]
  },
  {
   "cell_type": "code",
   "execution_count": 78,
   "id": "LhEsf3m_tP0d",
   "metadata": {
    "id": "LhEsf3m_tP0d"
   },
   "outputs": [],
   "source": [
    "QUERY_4 = \"\"\"\n",
    "WITH all_hired_rides AS (\n",
    "SELECT pickup_datetime, distance FROM taxi_trips \n",
    "WHERE strftime ('%Y',pickup_datetime)='2009'\n",
    "UNION ALL\n",
    "SELECT pickup_datetime, distance FROM uber_trips\n",
    "WHERE strftime ('%Y',pickup_datetime)='2009')\n",
    "\n",
    "SELECT date(pickup_datetime) AS date, AVG(distance) AS mean_dist, COUNT(*) AS number\n",
    "FROM all_hired_rides\n",
    "GROUP BY date\n",
    "ORDER BY number DESC\n",
    "LIMIT 10;\n",
    "\"\"\""
   ]
  },
  {
   "cell_type": "code",
   "execution_count": 79,
   "id": "s11ZA6u8tRJE",
   "metadata": {
    "colab": {
     "base_uri": "https://localhost:8080/"
    },
    "id": "s11ZA6u8tRJE",
    "outputId": "e53580fa-be45-4175-fd8e-02530b360ebc"
   },
   "outputs": [
    {
     "data": {
      "text/plain": [
       "[('2009-12-11', 2.90661186087508, 227),\n",
       " ('2009-09-16', 2.581444864964574, 213),\n",
       " ('2009-10-23', 2.8018997341735212, 211),\n",
       " ('2009-08-14', 3.612250276948325, 210),\n",
       " ('2009-04-03', 2.9799136177046774, 207),\n",
       " ('2009-02-20', 2.7616746042354734, 207),\n",
       " ('2009-04-18', 3.2851771394354405, 206),\n",
       " ('2009-01-31', 3.0023026867131803, 203),\n",
       " ('2009-06-19', 3.4696975279859728, 202),\n",
       " ('2009-12-15', 3.5283961211759176, 200)]"
      ]
     },
     "execution_count": 79,
     "metadata": {},
     "output_type": "execute_result"
    }
   ],
   "source": [
    "engine.execute(QUERY_4).fetchall()"
   ]
  },
  {
   "cell_type": "code",
   "execution_count": 80,
   "id": "8_7et5ggtSZR",
   "metadata": {
    "id": "8_7et5ggtSZR"
   },
   "outputs": [],
   "source": [
    "write_query_to_file(QUERY_4, \"days_most_rides.sql\")"
   ]
  },
  {
   "cell_type": "markdown",
   "id": "TbaLb-xtstuN",
   "metadata": {
    "id": "TbaLb-xtstuN"
   },
   "source": [
    "### Query 5\n",
    "Question: Which 10 days in 2014 were the windiest, and how many hired trips were made on those days?\n",
    "\n",
    "Answer: Please see below which shows the top 10 dates that were the windiest, and the number of hired trips respectively."
   ]
  },
  {
   "cell_type": "code",
   "execution_count": 81,
   "id": "kCPpwETyu5vX",
   "metadata": {
    "id": "kCPpwETyu5vX"
   },
   "outputs": [],
   "source": [
    "QUERY_5 = \"\"\"\n",
    "WITH all_hired_rides AS (\n",
    "SELECT pickup_datetime FROM taxi_trips\n",
    "WHERE strftime ('%Y',pickup_datetime)='2014'\n",
    "UNION ALL\n",
    "SELECT pickup_datetime FROM uber_trips\n",
    "WHERE strftime ('%Y',pickup_datetime)='2014')\n",
    "\n",
    "SELECT date(pickup_datetime) AS date, COUNT(*)\n",
    "FROM all_hired_rides\n",
    "GROUP BY date\n",
    "HAVING date IN (SELECT date FROM daily_weather \n",
    "WHERE strftime ('%Y',date)='2014' \n",
    "ORDER BY DailyAverageWindSpeed DESC\n",
    "LIMIT 10)\n",
    "\"\"\""
   ]
  },
  {
   "cell_type": "code",
   "execution_count": 82,
   "id": "bR5nxnjlu7hf",
   "metadata": {
    "colab": {
     "base_uri": "https://localhost:8080/"
    },
    "id": "bR5nxnjlu7hf",
    "outputId": "2d41edfa-b600-4f7d-ce8b-39864d3a7a6c"
   },
   "outputs": [
    {
     "data": {
      "text/plain": [
       "[('2014-01-02', 131),\n",
       " ('2014-01-03', 91),\n",
       " ('2014-01-07', 154),\n",
       " ('2014-02-13', 111),\n",
       " ('2014-03-13', 176),\n",
       " ('2014-03-26', 172),\n",
       " ('2014-03-29', 173),\n",
       " ('2014-11-02', 154),\n",
       " ('2014-12-07', 156),\n",
       " ('2014-12-08', 151)]"
      ]
     },
     "execution_count": 82,
     "metadata": {},
     "output_type": "execute_result"
    }
   ],
   "source": [
    "engine.execute(QUERY_5).fetchall()"
   ]
  },
  {
   "cell_type": "code",
   "execution_count": 83,
   "id": "9U9rNGhwu8py",
   "metadata": {
    "id": "9U9rNGhwu8py"
   },
   "outputs": [],
   "source": [
    "write_query_to_file(QUERY_5, \"windiest_days_trips.sql\")"
   ]
  },
  {
   "cell_type": "markdown",
   "id": "Ag-okVqUu_yy",
   "metadata": {
    "id": "Ag-okVqUu_yy"
   },
   "source": [
    "### Query 6\n",
    "Question: During Hurricane Sandy in NYC (Oct 29-30, 2012) and the week leading up to it, how many trips were taken each hour, and for each hour, how much precipitation did NYC receive and what was the sustained wind speed?\n",
    "\n",
    "Answer: Please see below which shows the one week (Oct 22 - Nov 5, 2012) leading up to Hurricane Sandy in NYC, the number of rides within each hour, and the hourly precipitation and wind speed."
   ]
  },
  {
   "cell_type": "code",
   "execution_count": 84,
   "id": "XmcSE1wEvAQz",
   "metadata": {
    "id": "XmcSE1wEvAQz"
   },
   "outputs": [],
   "source": [
    "QUERY_6 = \"\"\"WITH all_hired_rides AS (\n",
    "SELECT strftime('%Y-%m-%d %H:00:00',pickup_datetime) AS rides_date\n",
    "FROM taxi_trips\n",
    "WHERE pickup_datetime BETWEEN '2012-10-22' AND '2012-11-05'\n",
    "UNION ALL\n",
    "SELECT strftime('%Y-%m-%d %H:00:00',pickup_datetime) AS rides_date\n",
    "FROM uber_trips\n",
    "WHERE pickup_datetime BETWEEN '2012-10-22' AND '2012-11-05')\n",
    "\n",
    "SELECT strftime('%Y-%m-%d %H:00:00',hourly_weather.DATE) AS weather_date, COUNT(all_hired_rides.rides_date), HourlyPrecipitation, HourlyWindSpeed\n",
    "FROM hourly_weather\n",
    "LEFT JOIN all_hired_rides\n",
    "ON weather_date = all_hired_rides.rides_date\n",
    "WHERE date(weather_date) BETWEEN '2012-10-22' AND '2012-11-05'\n",
    "GROUP BY weather_date\n",
    "\"\"\""
   ]
  },
  {
   "cell_type": "code",
   "execution_count": 85,
   "id": "tgJLWGCgvAZg",
   "metadata": {
    "colab": {
     "base_uri": "https://localhost:8080/"
    },
    "id": "tgJLWGCgvAZg",
    "outputId": "771d8aae-a216-4b34-c4a0-dc35dc333380",
    "scrolled": true
   },
   "outputs": [
    {
     "data": {
      "text/plain": [
       "[('2012-10-22 00:00:00', 6, 0.0, 7.0),\n",
       " ('2012-10-22 01:00:00', 1, 0.0, 5.0),\n",
       " ('2012-10-22 02:00:00', 1, 0.0, 7.0),\n",
       " ('2012-10-22 03:00:00', 1, 0.0, 0.0),\n",
       " ('2012-10-22 04:00:00', 0, 0.0, 0.0),\n",
       " ('2012-10-22 05:00:00', 2, 0.0, 0.0),\n",
       " ('2012-10-22 06:00:00', 7, 0.0, 5.0),\n",
       " ('2012-10-22 07:00:00', 10, 0.0, 3.0),\n",
       " ('2012-10-22 08:00:00', 6, 0.0, 3.0),\n",
       " ('2012-10-22 09:00:00', 8, 0.0, 5.0),\n",
       " ('2012-10-22 10:00:00', 5, 0.0, 0.0),\n",
       " ('2012-10-22 11:00:00', 11, 0.0, 0.0),\n",
       " ('2012-10-22 12:00:00', 12, 0.0, 11.0),\n",
       " ('2012-10-22 13:00:00', 9, 0.0, 0.0),\n",
       " ('2012-10-22 14:00:00', 3, 0.0, 7.0),\n",
       " ('2012-10-22 15:00:00', 6, 0.0, 6.0),\n",
       " ('2012-10-22 16:00:00', 8, 0.0, 3.0),\n",
       " ('2012-10-22 17:00:00', 7, 0.0, 7.0),\n",
       " ('2012-10-22 18:00:00', 14, 0.0, 5.0),\n",
       " ('2012-10-22 19:00:00', 5, 0.0, 5.0),\n",
       " ('2012-10-22 20:00:00', 9, 0.0, 3.0),\n",
       " ('2012-10-22 21:00:00', 4, 0.0, 0.0),\n",
       " ('2012-10-22 22:00:00', 12, 0.0, 3.0),\n",
       " ('2012-10-22 23:00:00', 4, 0.0, 3.0),\n",
       " ('2012-10-23 00:00:00', 4, 0.0, 3.0),\n",
       " ('2012-10-23 01:00:00', 4, 0.0, 0.0),\n",
       " ('2012-10-23 02:00:00', 2, 0.0, 3.0),\n",
       " ('2012-10-23 03:00:00', 0, 0.0, 0.0),\n",
       " ('2012-10-23 04:00:00', 0, 0.0, 3.0),\n",
       " ('2012-10-23 05:00:00', 2, 0.0, 0.0),\n",
       " ('2012-10-23 06:00:00', 2, 0.0, 0.0),\n",
       " ('2012-10-23 07:00:00', 18, 0.0, 0.0),\n",
       " ('2012-10-23 08:00:00', 12, 0.0, 0.0),\n",
       " ('2012-10-23 09:00:00', 13, 0.0, 3.0),\n",
       " ('2012-10-23 10:00:00', 11, 0.0, 0.0),\n",
       " ('2012-10-23 11:00:00', 9, 0.0, 3.0),\n",
       " ('2012-10-23 12:00:00', 8, 0.0, 0.0),\n",
       " ('2012-10-23 13:00:00', 9, 0.0, 0.0),\n",
       " ('2012-10-23 14:00:00', 14, 0.0, 0.0),\n",
       " ('2012-10-23 15:00:00', 8, 0.0, 0.0),\n",
       " ('2012-10-23 16:00:00', 4, 0.0, 3.0),\n",
       " ('2012-10-23 18:00:00', 11, 0.0, 5.0),\n",
       " ('2012-10-23 19:00:00', 5, 0.0, 0.0),\n",
       " ('2012-10-23 20:00:00', 16, 0.02, 0.0),\n",
       " ('2012-10-23 21:00:00', 7, 0.0, 5.0),\n",
       " ('2012-10-23 22:00:00', 9, 0.01, 0.0),\n",
       " ('2012-10-23 23:00:00', 9, 0.0, 5.0),\n",
       " ('2012-10-24 00:00:00', 1, 0.0, 3.0),\n",
       " ('2012-10-24 01:00:00', 3, 0.0, 5.0),\n",
       " ('2012-10-24 02:00:00', 4, 0.0, 5.0),\n",
       " ('2012-10-24 03:00:00', 1, 0.0, 7.0),\n",
       " ('2012-10-24 04:00:00', 1, 0.0, 7.0),\n",
       " ('2012-10-24 05:00:00', 4, 0.0, 6.0),\n",
       " ('2012-10-24 06:00:00', 1, 0.0, 3.0),\n",
       " ('2012-10-24 07:00:00', 8, 0.0, 0.0),\n",
       " ('2012-10-24 08:00:00', 6, 0.0, 0.0),\n",
       " ('2012-10-24 09:00:00', 10, 0.0, 3.0),\n",
       " ('2012-10-24 10:00:00', 6, 0.0, 7.0),\n",
       " ('2012-10-24 11:00:00', 7, 0.0, 7.0),\n",
       " ('2012-10-24 12:00:00', 8, 0.0, 7.0),\n",
       " ('2012-10-24 13:00:00', 6, 0.0, 8.0),\n",
       " ('2012-10-24 14:00:00', 11, 0.0, 7.0),\n",
       " ('2012-10-24 15:00:00', 7, 0.0, 7.0),\n",
       " ('2012-10-24 16:00:00', 5, 0.0, 8.0),\n",
       " ('2012-10-24 17:00:00', 13, 0.0, 5.0),\n",
       " ('2012-10-24 18:00:00', 10, 0.0, 7.0),\n",
       " ('2012-10-24 19:00:00', 12, 0.0, 8.0),\n",
       " ('2012-10-24 20:00:00', 13, 0.0, 3.0),\n",
       " ('2012-10-24 21:00:00', 12, 0.0, 5.0),\n",
       " ('2012-10-24 22:00:00', 5, 0.0, 6.0),\n",
       " ('2012-10-24 23:00:00', 7, 0.0, 0.0),\n",
       " ('2012-10-25 00:00:00', 9, 0.0, 3.0),\n",
       " ('2012-10-25 01:00:00', 1, 0.0, 3.0),\n",
       " ('2012-10-25 02:00:00', 2, 0.0, 3.0),\n",
       " ('2012-10-25 03:00:00', 0, 0.0, 7.0),\n",
       " ('2012-10-25 04:00:00', 2, 0.0, 6.0),\n",
       " ('2012-10-25 05:00:00', 2, 0.0, 0.0),\n",
       " ('2012-10-25 06:00:00', 5, 0.0, 5.0),\n",
       " ('2012-10-25 07:00:00', 6, 0.0, 6.0),\n",
       " ('2012-10-25 08:00:00', 11, 0.0, 5.0),\n",
       " ('2012-10-25 09:00:00', 8, 0.0, 3.0),\n",
       " ('2012-10-25 10:00:00', 5, 0.0, 6.0),\n",
       " ('2012-10-25 11:00:00', 8, 0.0, 0.0),\n",
       " ('2012-10-25 12:00:00', 12, 0.0, 6.0),\n",
       " ('2012-10-25 13:00:00', 7, 0.0, 0.0),\n",
       " ('2012-10-25 14:00:00', 11, 0.0, 5.0),\n",
       " ('2012-10-25 15:00:00', 9, 0.0, 5.0),\n",
       " ('2012-10-25 16:00:00', 2, 0.0, 0.0),\n",
       " ('2012-10-25 17:00:00', 5, 0.0, 3.0),\n",
       " ('2012-10-25 18:00:00', 10, 0.0, 0.0),\n",
       " ('2012-10-25 19:00:00', 7, 0.0, 0.0),\n",
       " ('2012-10-25 20:00:00', 20, 0.0, 3.0),\n",
       " ('2012-10-25 21:00:00', 12, 0.0, 3.0),\n",
       " ('2012-10-25 22:00:00', 7, 0.0, 3.0),\n",
       " ('2012-10-25 23:00:00', 5, 0.0, 0.0),\n",
       " ('2012-10-26 00:00:00', 5, 0.0, 5.0),\n",
       " ('2012-10-26 01:00:00', 4, 0.0, 0.0),\n",
       " ('2012-10-26 02:00:00', 5, 0.0, 0.0),\n",
       " ('2012-10-26 03:00:00', 2, 0.0, 3.0),\n",
       " ('2012-10-26 04:00:00', 2, 0.0, 0.0),\n",
       " ('2012-10-26 05:00:00', 1, 0.0, 0.0),\n",
       " ('2012-10-26 06:00:00', 3, 0.0, 0.0),\n",
       " ('2012-10-26 07:00:00', 7, 0.0, 3.0),\n",
       " ('2012-10-26 08:00:00', 2, 0.0, 3.0),\n",
       " ('2012-10-26 09:00:00', 11, 0.0, 3.0),\n",
       " ('2012-10-26 10:00:00', 7, 0.0, 3.0),\n",
       " ('2012-10-26 11:00:00', 7, 0.0, 3.0),\n",
       " ('2012-10-26 12:00:00', 4, 0.0, 0.0),\n",
       " ('2012-10-26 13:00:00', 10, 0.0, 3.0),\n",
       " ('2012-10-26 14:00:00', 5, 0.0, 3.0),\n",
       " ('2012-10-26 15:00:00', 5, 0.0, 0.0),\n",
       " ('2012-10-26 16:00:00', 4, 0.0, 0.0),\n",
       " ('2012-10-26 17:00:00', 4, 0.0, 0.0),\n",
       " ('2012-10-26 18:00:00', 9, 0.0, 0.0),\n",
       " ('2012-10-26 19:00:00', 11, 0.0, 0.0),\n",
       " ('2012-10-26 20:00:00', 13, 0.0, 3.0),\n",
       " ('2012-10-26 21:00:00', 8, 0.0, 3.0),\n",
       " ('2012-10-26 22:00:00', 10, 0.0, 0.0),\n",
       " ('2012-10-26 23:00:00', 9, 0.0, 0.0),\n",
       " ('2012-10-27 00:00:00', 10, 0.0, 3.0),\n",
       " ('2012-10-27 01:00:00', 7, 0.0, 0.0),\n",
       " ('2012-10-27 02:00:00', 9, 0.0, 3.0),\n",
       " ('2012-10-27 03:00:00', 8, 0.0, 0.0),\n",
       " ('2012-10-27 04:00:00', 2, 0.0, 6.0),\n",
       " ('2012-10-27 05:00:00', 2, 0.0, 6.0),\n",
       " ('2012-10-27 06:00:00', 1, 0.0, 6.0),\n",
       " ('2012-10-27 07:00:00', 4, 0.0, 3.0),\n",
       " ('2012-10-27 08:00:00', 3, 0.0, 8.0),\n",
       " ('2012-10-27 09:00:00', 8, 0.0, 6.0),\n",
       " ('2012-10-27 10:00:00', 9, 0.0, 9.0),\n",
       " ('2012-10-27 11:00:00', 4, 0.0, 6.0),\n",
       " ('2012-10-27 12:00:00', 6, 0.0, 8.0),\n",
       " ('2012-10-27 13:00:00', 5, 0.0, 8.0),\n",
       " ('2012-10-27 14:00:00', 3, 0.0, 10.0),\n",
       " ('2012-10-27 15:00:00', 7, 0.0, 10.0),\n",
       " ('2012-10-27 16:00:00', 10, 0.0, 7.0),\n",
       " ('2012-10-27 17:00:00', 13, 0.0, 7.0),\n",
       " ('2012-10-27 18:00:00', 10, 0.0, 7.0),\n",
       " ('2012-10-27 19:00:00', 11, 0.0, 9.0),\n",
       " ('2012-10-27 20:00:00', 13, 0.0, 7.0),\n",
       " ('2012-10-27 21:00:00', 14, 0.0, 9.0),\n",
       " ('2012-10-27 22:00:00', 11, 0.0, 9.0),\n",
       " ('2012-10-27 23:00:00', 16, 0.0, 8.0),\n",
       " ('2012-10-28 00:00:00', 11, 0.0, 11.0),\n",
       " ('2012-10-28 01:00:00', 12, 0.0, 8.0),\n",
       " ('2012-10-28 02:00:00', 10, 0.0, 8.0),\n",
       " ('2012-10-28 03:00:00', 6, 0.0, 9.0),\n",
       " ('2012-10-28 04:00:00', 6, 0.0, 10.0),\n",
       " ('2012-10-28 05:00:00', 3, 0.0, 11.0),\n",
       " ('2012-10-28 06:00:00', 1, 0.0, 10.0),\n",
       " ('2012-10-28 07:00:00', 5, 0.0, 11.0),\n",
       " ('2012-10-28 08:00:00', 3, 0.0, 11.0),\n",
       " ('2012-10-28 09:00:00', 6, 0.0, 11.0),\n",
       " ('2012-10-28 10:00:00', 5, 0.0, 10.0),\n",
       " ('2012-10-28 11:00:00', 9, 0.0, 8.0),\n",
       " ('2012-10-28 12:00:00', 6, 0.0, 7.0),\n",
       " ('2012-10-28 13:00:00', 7, 0.0, 13.0),\n",
       " ('2012-10-28 14:00:00', 11, 0.0, 13.0),\n",
       " ('2012-10-28 15:00:00', 12, 0.0, 13.0),\n",
       " ('2012-10-28 16:00:00', 6, 0.0, 16.0),\n",
       " ('2012-10-28 17:00:00', 4, 0.0, 11.0),\n",
       " ('2012-10-28 18:00:00', 6, 0.0, 15.0),\n",
       " ('2012-10-28 19:00:00', 4, 0.0, 14.0),\n",
       " ('2012-10-28 20:00:00', 6, 0.0, 16.0),\n",
       " ('2012-10-28 21:00:00', 5, 0.0, 14.0),\n",
       " ('2012-10-28 22:00:00', 4, 0.0, 16.0),\n",
       " ('2012-10-28 23:00:00', 1, 0.0, 14.0),\n",
       " ('2012-10-29 00:00:00', 2, 0.0, 16.0),\n",
       " ('2012-10-29 01:00:00', 1, 0.0, 11.0),\n",
       " ('2012-10-29 02:00:00', 1, 0.0, 13.0),\n",
       " ('2012-10-29 03:00:00', 0, 0.0, 17.0),\n",
       " ('2012-10-29 04:00:00', 1, 0.0, 15.0),\n",
       " ('2012-10-29 05:00:00', 0, 0.0, 15.0),\n",
       " ('2012-10-29 06:00:00', 1, 0.02, 16.0),\n",
       " ('2012-10-29 07:00:00', 3, 0.02, 17.0),\n",
       " ('2012-10-29 08:00:00', 2, 0.0, 21.0),\n",
       " ('2012-10-29 09:00:00', 3, 0.0, 16.0),\n",
       " ('2012-10-29 10:00:00', 1, 0.02, 0.0),\n",
       " ('2012-10-29 11:00:00', 5, 0.05, 17.0),\n",
       " ('2012-10-29 12:00:00', 5, 0.06, 20.0),\n",
       " ('2012-10-29 13:00:00', 1, 0.04, 28.0),\n",
       " ('2012-10-29 14:00:00', 6, 0.05, 28.0),\n",
       " ('2012-10-29 15:00:00', 3, 0.11, 24.0),\n",
       " ('2012-10-29 16:00:00', 0, 0.09, 30.0),\n",
       " ('2012-10-29 17:00:00', 1, 0.07, 25.0),\n",
       " ('2012-10-29 18:00:00', 3, 0.02, 25.0),\n",
       " ('2012-10-29 19:00:00', 0, 0.01, 25.0),\n",
       " ('2012-10-29 20:00:00', 0, 0.0, 17.0),\n",
       " ('2012-10-29 21:00:00', 1, 0.0, 15.0),\n",
       " ('2012-10-29 22:00:00', 0, 0.02, 9.0),\n",
       " ('2012-10-29 23:00:00', 0, 0.09, 10.0),\n",
       " ('2012-10-30 00:00:00', 1, 0.02, 10.0),\n",
       " ('2012-10-30 01:00:00', 0, 0.0, 8.0),\n",
       " ('2012-10-30 02:00:00', 0, 0.03, 9.0),\n",
       " ('2012-10-30 03:00:00', 0, 0.04, 17.0),\n",
       " ('2012-10-30 04:00:00', 1, 0.0, 9.0),\n",
       " ('2012-10-30 05:00:00', 0, 0.01, 7.0),\n",
       " ('2012-10-30 06:00:00', 0, 0.01, 7.0),\n",
       " ('2012-10-30 07:00:00', 1, 0.0, 10.0),\n",
       " ('2012-10-30 08:00:00', 0, 0.05, 0.0),\n",
       " ('2012-10-30 09:00:00', 3, 0.09, 10.0),\n",
       " ('2012-10-30 10:00:00', 4, 0.01, 0.0),\n",
       " ('2012-10-30 11:00:00', 4, 0.0, 7.0),\n",
       " ('2012-10-30 12:00:00', 3, 0.0, 7.0),\n",
       " ('2012-10-30 13:00:00', 3, 0.0, 6.0),\n",
       " ('2012-10-30 14:00:00', 1, 0.0, 0.0),\n",
       " ('2012-10-30 15:00:00', 5, 0.0, 0.0),\n",
       " ('2012-10-30 16:00:00', 1, 0.01, 6.0),\n",
       " ('2012-10-30 17:00:00', 8, 0.0, 5.0),\n",
       " ('2012-10-30 18:00:00', 4, 0.0, 5.0),\n",
       " ('2012-10-30 19:00:00', 6, 0.0, 3.0),\n",
       " ('2012-10-30 20:00:00', 6, 0.0, 7.0),\n",
       " ('2012-10-30 21:00:00', 4, 0.0, 5.0),\n",
       " ('2012-10-30 22:00:00', 3, 0.0, 7.0),\n",
       " ('2012-10-30 23:00:00', 3, 0.0, 9.0),\n",
       " ('2012-10-31 00:00:00', 2, 0.0, 5.0),\n",
       " ('2012-10-31 01:00:00', 0, 0.01, 5.0),\n",
       " ('2012-10-31 02:00:00', 3, 0.0, 0.0),\n",
       " ('2012-10-31 03:00:00', 0, 0.0, 8.0),\n",
       " ('2012-10-31 04:00:00', 1, 0.0, 0.0),\n",
       " ('2012-10-31 05:00:00', 0, 0.0, 0.0),\n",
       " ('2012-10-31 06:00:00', 3, 0.0, 6.0),\n",
       " ('2012-10-31 07:00:00', 4, 0.0, 8.0),\n",
       " ('2012-10-31 08:00:00', 4, 0.0, 7.0),\n",
       " ('2012-10-31 09:00:00', 5, 0.0, 8.0),\n",
       " ('2012-10-31 10:00:00', 4, 0.0, 3.0),\n",
       " ('2012-10-31 11:00:00', 3, 0.0, 5.0),\n",
       " ('2012-10-31 12:00:00', 3, 0.0, 3.0),\n",
       " ('2012-10-31 13:00:00', 3, 0.0, 6.0),\n",
       " ('2012-10-31 14:00:00', 5, 0.0, 5.0),\n",
       " ('2012-10-31 15:00:00', 5, 0.0, 3.0),\n",
       " ('2012-10-31 16:00:00', 6, 0.0, 5.0),\n",
       " ('2012-10-31 17:00:00', 1, 0.0, 5.0),\n",
       " ('2012-10-31 18:00:00', 8, 0.0, 3.0),\n",
       " ('2012-10-31 19:00:00', 10, 0.0, 9.0),\n",
       " ('2012-10-31 20:00:00', 4, 0.0, 7.0),\n",
       " ('2012-10-31 21:00:00', 3, 0.0, 7.0),\n",
       " ('2012-10-31 22:00:00', 5, 0.0, 6.0),\n",
       " ('2012-10-31 23:00:00', 5, 0.0, 3.0),\n",
       " ('2012-11-01 00:00:00', 2, 0.0, 3.0),\n",
       " ('2012-11-01 01:00:00', 1, 0.0, 3.0),\n",
       " ('2012-11-01 02:00:00', 1, 0.0, 3.0),\n",
       " ('2012-11-01 03:00:00', 4, 0.0, 0.0),\n",
       " ('2012-11-01 04:00:00', 2, 0.0, 7.0),\n",
       " ('2012-11-01 05:00:00', 2, 0.0, 6.0),\n",
       " ('2012-11-01 06:00:00', 2, 0.0, 13.0),\n",
       " ('2012-11-01 07:00:00', 5, 0.0, 0.0),\n",
       " ('2012-11-01 08:00:00', 3, 0.0, 7.0),\n",
       " ('2012-11-01 09:00:00', 4, 0.0, 3.0),\n",
       " ('2012-11-01 10:00:00', 11, 0.0, 6.0),\n",
       " ('2012-11-01 11:00:00', 7, 0.0, 6.0),\n",
       " ('2012-11-01 12:00:00', 9, 0.0, 11.0),\n",
       " ('2012-11-01 13:00:00', 4, 0.0, 8.0),\n",
       " ('2012-11-01 14:00:00', 7, 0.0, 8.0),\n",
       " ('2012-11-01 15:00:00', 6, 0.0, 0.0),\n",
       " ('2012-11-01 16:00:00', 5, 0.0, 5.0),\n",
       " ('2012-11-01 17:00:00', 4, 0.0, 5.0),\n",
       " ('2012-11-01 18:00:00', 9, 0.0, 9.0),\n",
       " ('2012-11-01 19:00:00', 9, 0.0, 3.0),\n",
       " ('2012-11-01 20:00:00', 7, 0.0, 5.0),\n",
       " ('2012-11-01 21:00:00', 3, 0.0, 8.0),\n",
       " ('2012-11-01 22:00:00', 7, 0.0, 5.0),\n",
       " ('2012-11-01 23:00:00', 4, 0.0, 0.0),\n",
       " ('2012-11-02 00:00:00', 9, 0.0, 5.0),\n",
       " ('2012-11-02 01:00:00', 2, 0.0, 7.0),\n",
       " ('2012-11-02 02:00:00', 1, 0.0, 3.0),\n",
       " ('2012-11-02 03:00:00', 1, 0.0, 3.0),\n",
       " ('2012-11-02 04:00:00', 0, 0.0, 5.0),\n",
       " ('2012-11-02 05:00:00', 1, 0.0, 5.0),\n",
       " ('2012-11-02 06:00:00', 2, 0.0, 6.0),\n",
       " ('2012-11-02 07:00:00', 1, 0.0, 0.0),\n",
       " ('2012-11-02 08:00:00', 5, 0.0, 5.0),\n",
       " ('2012-11-02 09:00:00', 4, 0.0, 7.0),\n",
       " ('2012-11-02 10:00:00', 2, 0.0, 9.0),\n",
       " ('2012-11-02 11:00:00', 5, 0.0, 7.0),\n",
       " ('2012-11-02 12:00:00', 5, 0.0, 7.0),\n",
       " ('2012-11-02 13:00:00', 4, 0.0, 6.0),\n",
       " ('2012-11-02 14:00:00', 5, 0.0, 6.0),\n",
       " ('2012-11-02 15:00:00', 5, 0.0, 5.0),\n",
       " ('2012-11-02 16:00:00', 3, 0.0, 11.0),\n",
       " ('2012-11-02 17:00:00', 3, 0.0, 8.0),\n",
       " ('2012-11-02 18:00:00', 3, 0.0, 9.0),\n",
       " ('2012-11-02 19:00:00', 8, 0.0, 7.0),\n",
       " ('2012-11-02 20:00:00', 8, 0.0, 9.0),\n",
       " ('2012-11-02 21:00:00', 12, 0.0, 7.0),\n",
       " ('2012-11-02 22:00:00', 11, 0.0, 8.0),\n",
       " ('2012-11-02 23:00:00', 9, 0.0, 8.0),\n",
       " ('2012-11-03 00:00:00', 12, 0.0, 7.0),\n",
       " ('2012-11-03 01:00:00', 3, 0.0, 7.0),\n",
       " ('2012-11-03 02:00:00', 8, 0.0, 7.0),\n",
       " ('2012-11-03 03:00:00', 1, 0.0, 7.0),\n",
       " ('2012-11-03 04:00:00', 3, 0.0, 8.0),\n",
       " ('2012-11-03 05:00:00', 1, 0.0, 8.0),\n",
       " ('2012-11-03 06:00:00', 2, 0.0, 7.0),\n",
       " ('2012-11-03 07:00:00', 1, 0.0, 6.0),\n",
       " ('2012-11-03 08:00:00', 2, 0.0, 10.0),\n",
       " ('2012-11-03 09:00:00', 6, 0.0, 13.0),\n",
       " ('2012-11-03 10:00:00', 8, 0.0, 6.0),\n",
       " ('2012-11-03 11:00:00', 12, 0.0, 13.0),\n",
       " ('2012-11-03 12:00:00', 7, 0.0, 13.0),\n",
       " ('2012-11-03 13:00:00', 8, 0.0, 8.0),\n",
       " ('2012-11-03 14:00:00', 14, 0.0, 8.0),\n",
       " ('2012-11-03 15:00:00', 4, 0.0, 7.0),\n",
       " ('2012-11-03 16:00:00', 7, 0.0, 10.0),\n",
       " ('2012-11-03 17:00:00', 10, 0.0, 9.0),\n",
       " ('2012-11-03 18:00:00', 12, 0.0, 9.0),\n",
       " ('2012-11-03 19:00:00', 13, 0.0, 13.0),\n",
       " ('2012-11-03 20:00:00', 5, 0.0, 10.0),\n",
       " ('2012-11-03 21:00:00', 10, 0.0, 9.0),\n",
       " ('2012-11-03 22:00:00', 12, 0.0, 0.0),\n",
       " ('2012-11-03 23:00:00', 13, 0.0, 7.0),\n",
       " ('2012-11-04 00:00:00', 11, 0.0, 9.0),\n",
       " ('2012-11-04 01:00:00', 15, 0.0, 7.0),\n",
       " ('2012-11-04 02:00:00', 8, 0.0, 7.0),\n",
       " ('2012-11-04 03:00:00', 3, 0.0, 7.0),\n",
       " ('2012-11-04 04:00:00', 4, 0.0, 8.0),\n",
       " ('2012-11-04 05:00:00', 1, 0.0, 6.0),\n",
       " ('2012-11-04 06:00:00', 3, 0.0, 6.0),\n",
       " ('2012-11-04 07:00:00', 2, 0.0, 3.0),\n",
       " ('2012-11-04 08:00:00', 4, 0.0, 7.0),\n",
       " ('2012-11-04 09:00:00', 3, 0.0, 9.0),\n",
       " ('2012-11-04 10:00:00', 5, 0.0, 0.0),\n",
       " ('2012-11-04 11:00:00', 6, 0.0, 6.0),\n",
       " ('2012-11-04 12:00:00', 9, 0.0, 8.0),\n",
       " ('2012-11-04 13:00:00', 9, 0.0, 8.0),\n",
       " ('2012-11-04 14:00:00', 7, 0.0, 7.0),\n",
       " ('2012-11-04 15:00:00', 3, 0.0, 7.0),\n",
       " ('2012-11-04 16:00:00', 6, 0.0, 5.0),\n",
       " ('2012-11-04 17:00:00', 9, 0.0, 5.0),\n",
       " ('2012-11-04 18:00:00', 8, 0.0, 0.0),\n",
       " ('2012-11-04 19:00:00', 12, 0.0, 7.0),\n",
       " ('2012-11-04 20:00:00', 9, 0.0, 0.0),\n",
       " ('2012-11-04 21:00:00', 5, 0.0, 7.0),\n",
       " ('2012-11-04 22:00:00', 4, 0.0, 6.0),\n",
       " ('2012-11-04 23:00:00', 3, 0.0, 5.0),\n",
       " ('2012-11-05 00:00:00', 0, 0.0, 0.0),\n",
       " ('2012-11-05 01:00:00', 0, 0.0, 5.0),\n",
       " ('2012-11-05 02:00:00', 0, 0.0, 3.0),\n",
       " ('2012-11-05 03:00:00', 0, 0.0, 7.0),\n",
       " ('2012-11-05 04:00:00', 0, 0.0, 3.0),\n",
       " ('2012-11-05 05:00:00', 0, 0.0, 6.0),\n",
       " ('2012-11-05 06:00:00', 0, 0.0, 8.0),\n",
       " ('2012-11-05 07:00:00', 0, 0.0, 6.0),\n",
       " ('2012-11-05 08:00:00', 0, 0.0, 7.0),\n",
       " ('2012-11-05 09:00:00', 0, 0.0, 3.0),\n",
       " ('2012-11-05 10:00:00', 0, 0.0, 3.0),\n",
       " ('2012-11-05 11:00:00', 0, 0.0, 3.0),\n",
       " ('2012-11-05 12:00:00', 0, 0.0, 5.0),\n",
       " ('2012-11-05 13:00:00', 0, 0.0, 3.0),\n",
       " ('2012-11-05 14:00:00', 0, 0.0, 0.0),\n",
       " ('2012-11-05 15:00:00', 0, 0.0, 8.0),\n",
       " ('2012-11-05 16:00:00', 0, 0.0, 0.0),\n",
       " ('2012-11-05 17:00:00', 0, 0.0, 5.0),\n",
       " ('2012-11-05 18:00:00', 0, 0.0, 5.0),\n",
       " ('2012-11-05 19:00:00', 0, 0.0, 0.0),\n",
       " ('2012-11-05 20:00:00', 0, 0.0, 3.0),\n",
       " ('2012-11-05 21:00:00', 0, 0.0, 7.0),\n",
       " ('2012-11-05 22:00:00', 0, 0.0, 6.0),\n",
       " ('2012-11-05 23:00:00', 0, 0.0, 9.0)]"
      ]
     },
     "execution_count": 85,
     "metadata": {},
     "output_type": "execute_result"
    }
   ],
   "source": [
    "engine.execute(QUERY_6).fetchall()"
   ]
  },
  {
   "cell_type": "code",
   "execution_count": 86,
   "id": "QfPCxicfzmHM",
   "metadata": {
    "id": "QfPCxicfzmHM"
   },
   "outputs": [],
   "source": [
    "write_query_to_file(QUERY_6, \"hurricane_trips_weather.sql\")"
   ]
  },
  {
   "cell_type": "markdown",
   "id": "a13ced42",
   "metadata": {
    "id": "a13ced42"
   },
   "source": [
    "# **Part 4: Visualizing the Data**\n",
    "During this part, we need to answer the following 6 questions.\n",
    "\n",
    "**We also add the animation for Q2.**\n",
    "\n",
    "* [*] Create an appropriate visualization for the first query/question in part 3\n",
    "* [*] Create a visualization that shows the average distance traveled per month (regardless of year - so group by each month). Include the 90% confidence interval around the mean in the visualization\n",
    "* [*] Define three lat/long coordinate boxes around the three major New York airports: LGA, JFK, and EWR (you can use bboxfinder to help). Create a visualization that compares what day of the week was most popular for drop offs for each airport.\n",
    "* [*] Create a heatmap of all hired trips over a map of the area. Consider using KeplerGL or another library that helps generate geospatial visualizations.\n",
    "* [*] Create a scatter plot that compares tip amount versus distance.\n",
    "* [*] Create another scatter plot that compares tip amount versus precipitation amount."
   ]
  },
  {
   "cell_type": "markdown",
   "id": "iOeMqQNUeeoY",
   "metadata": {
    "id": "iOeMqQNUeeoY"
   },
   "source": [
    "## **Question 1**"
   ]
  },
  {
   "cell_type": "code",
   "execution_count": 87,
   "id": "0de8394c",
   "metadata": {
    "id": "0de8394c"
   },
   "outputs": [],
   "source": [
    "def popular_taxi_hour(dataframe):\n",
    "    \"\"\"Use line graph to show what hour of the day was the most popular to take the Taxi\n",
    "      The last hour in X is the result\n",
    "    \"\"\"\n",
    "    plt.figure(figsize=(12,5)) \n",
    "    x = dataframe['hour']\n",
    "    y = dataframe['trips']\n",
    "    plt.plot(x,y,'s-',color = 'r',label=\"Taxi\")\n",
    "    plt.legend()\n",
    "    plt.xlabel(\"Hour\")\n",
    "    plt.ylabel(\"Trip amount\")\n",
    "    plt.tick_params(axis='x', labelsize=8)\n",
    "    plt.title('Taxi trips-hour of the day')\n",
    "    plt.show()"
   ]
  },
  {
   "cell_type": "code",
   "execution_count": 88,
   "id": "847ced2f",
   "metadata": {
    "id": "847ced2f"
   },
   "outputs": [],
   "source": [
    "def get_data_for_visual_1():\n",
    "    # Query SQL database for the data needed\n",
    "    QUERY_1 = \"\"\"\n",
    "    SELECT COUNT(*) AS trips, strftime ('%H',pickup_datetime) AS hour\n",
    "    FROM taxi_trips\n",
    "    GROUP BY hour\n",
    "    ORDER BY trips\n",
    "    \"\"\"\n",
    "    taxi_table1 = pd.read_sql_query(QUERY_1,engine)\n",
    "    return taxi_table1\n"
   ]
  },
  {
   "cell_type": "code",
   "execution_count": 89,
   "id": "qmFMBH44NGmH",
   "metadata": {
    "colab": {
     "base_uri": "https://localhost:8080/",
     "height": 349
    },
    "id": "qmFMBH44NGmH",
    "outputId": "8280270f-e0e2-4c4e-fde6-7eae17e48bae"
   },
   "outputs": [
    {
     "data": {
      "image/png": "[encoded data removed]",
      "text/plain": [
       "<Figure size 864x360 with 1 Axes>"
      ]
     },
     "metadata": {
      "needs_background": "light"
     },
     "output_type": "display_data"
    }
   ],
   "source": [
    "taxi_table1 = get_data_for_visual_1()\n",
    "popular_taxi_hour(taxi_table1)"
   ]
  },
  {
   "cell_type": "markdown",
   "id": "dPBW_9wudRv2",
   "metadata": {
    "id": "dPBW_9wudRv2"
   },
   "source": [
    "From the above graph, 19:00 (7pm-8pm) was the most popular hour to take a yellow taxi."
   ]
  },
  {
   "cell_type": "markdown",
   "id": "uBTG9luxNHBO",
   "metadata": {
    "id": "uBTG9luxNHBO"
   },
   "source": [
    "## **Question 2：**\n",
    "\n",
    "We create a line graph that showsthe average distance per month\n",
    "     for both Taxi and Uber combined, including 90% confidence interval.\n",
    "\n",
    "We also create an **animation line graph** that shows average distance per month for both Taxi and Uber combined, without 90% confidence interval."
   ]
  },
  {
   "cell_type": "code",
   "execution_count": 90,
   "id": "EiigmvKUNTfy",
   "metadata": {
    "id": "EiigmvKUNTfy"
   },
   "outputs": [],
   "source": [
    "def get_data_for_visual_2():\n",
    "    \"\"\"Obtain pickup_month and distance from Uber and Taxi with SQL\n",
    "       Return two dataframe named Taxi_table2 and Uber_table2\n",
    "    \"\"\"\n",
    "\n",
    "    # Query SQL database for the data needed\n",
    "    Query2 = \"\"\"\n",
    "    SELECT strftime(\"%m\", pickup_datetime) AS pickup_month,\n",
    "    distance\n",
    "    FROM taxi_trips\n",
    "    \"\"\"\n",
    "    Query22 = \"\"\"\n",
    "    SELECT strftime(\"%m\", pickup_datetime) AS pickup_month,\n",
    "    distance\n",
    "    FROM uber_trips\n",
    "    \"\"\"\n",
    "\n",
    "    Taxi_table2 = pd.read_sql_query(Query2,engine)\n",
    "    Uber_table2 = pd.read_sql_query(Query22,engine)\n",
    "\n",
    "    return Taxi_table2,Uber_table2\n"
   ]
  },
  {
   "cell_type": "code",
   "execution_count": 91,
   "id": "wo3nGT6_Pd1G",
   "metadata": {
    "id": "wo3nGT6_Pd1G"
   },
   "outputs": [],
   "source": [
    "def add_90_confidence_interval(df):\n",
    "    \"\"\" Calculate mean and standard deviation for distance\n",
    "        Use mean and standard deviation to calculate 90% confidence interval\n",
    "        Add mean, standard deviation and 90% confidence interval to dataframe\n",
    "    \"\"\"\n",
    "    # Calculate mean and standard deviation for distance\n",
    "    mean = df.groupby('pickup_month')['distance'].mean().to_frame().rename(columns={'distance':'Mean'})\n",
    "    std = df.groupby('pickup_month')['distance'].std().to_frame().rename(columns={'distance':'Std'})\n",
    "    df3 = pd.concat([mean,std],axis=1)\n",
    "\n",
    "    # Use mean and standard deviation to calculate 90% confidence interval\n",
    "    confidence1 = []\n",
    "    confidence2 = []\n",
    "    for i in range(len(df3['Mean'])):\n",
    "        cf1 = round(df3['Mean'][i]-(1.64*df3['Std'][i]),2)\n",
    "        cf2 = round(df3['Mean'][i]+(1.64*df3['Std'][i]),2)\n",
    "        confidence1.append(cf1)\n",
    "        confidence2.append(cf2)\n",
    "\n",
    "\n",
    "    df3['ci_upper'] = confidence2\n",
    "    df3['ci_lower'] = confidence1\n",
    "\n",
    "    return df3"
   ]
  },
  {
   "cell_type": "code",
   "execution_count": 92,
   "id": "YGvQkmQJUDmK",
   "metadata": {
    "id": "YGvQkmQJUDmK"
   },
   "outputs": [],
   "source": [
    "def avg_distance_per_month(Taxi_table22,Uber_table22):\n",
    "    \"\"\"Create a line graph that shows the average distance per month\n",
    "      for both Taxi and Uber combined, including 90% confidence interval\n",
    "    \"\"\"\n",
    "    x = Uber_table22.index\n",
    "    k1 = Uber_table22['Mean']\n",
    "    k2 = Taxi_table22['Mean']\n",
    "\n",
    "    plt.figure(figsize=(20,10)) \n",
    "    plt.plot(x,k1,'s-',color = 'r',label=\"Uber\")\n",
    "    plt.plot(x,k2,'o-',color = 'b',label=\"Taxi\")\n",
    "    plt.legend()\n",
    "\n",
    "    #Add 90% confidence interval\n",
    "    plt.fill_between(x, Taxi_table22['ci_upper'], Taxi_table22['ci_lower'], color='b', alpha=.1)\n",
    "    plt.fill_between(x, Uber_table22['ci_upper'], Uber_table22['ci_lower'], color='r', alpha=.1)\n",
    "    \n",
    "    plt.xlabel(\"Month\")\n",
    "    plt.ylabel(\"Distance\")\n",
    "    plt.tick_params(axis='x', labelsize=8)\n",
    "    plt.title('The average distance per month')\n",
    "    plt.show()"
   ]
  },
  {
   "cell_type": "code",
   "execution_count": 93,
   "id": "RWqU2x2PIv5K",
   "metadata": {
    "id": "RWqU2x2PIv5K"
   },
   "outputs": [],
   "source": [
    "def distance_animation_2():\n",
    "    \"\"\"Create an animation line graph that shows the average distance per month\n",
    "        for both Taxi and Uber combined, without 90% confidence interval\n",
    "    \"\"\"\n",
    "    y1 = Uber_table22['Mean']\n",
    "    y2 = Taxi_table22['Mean']\n",
    "    t = Uber_table22.index\n",
    "    fig = plt.figure(figsize=(10,4))\n",
    "    camera = Camera(fig)\n",
    "\n",
    "    # Use for-loop to create animation\n",
    "    for i in range(1,len(y1)):\n",
    "        new_t = t[:i]\n",
    "        z1 = y1[:i]\n",
    "        z2 = y2[:i]\n",
    "        plt.plot(new_t,z1,linestyle='solid',color='red')\n",
    "        plt.plot(new_t,z2,linestyle='solid',color='blue')\n",
    "        plt.xlabel(\"Month\")\n",
    "        plt.ylabel(\"Distance\")\n",
    "        plt.tick_params(axis='x', labelsize=8)\n",
    "        plt.title('The average distance per month (R for Uber; B for Taxi)')\n",
    "        fig.tight_layout()\n",
    "        camera.snap()\n",
    "\n",
    "    animation = camera.animate()\n",
    "\n",
    "    return HTML(animation.to_html5_video())\n",
    "  "
   ]
  },
  {
   "cell_type": "code",
   "execution_count": 94,
   "id": "6rPNGOhlImNw",
   "metadata": {
    "colab": {
     "base_uri": "https://localhost:8080/",
     "height": 581
    },
    "id": "6rPNGOhlImNw",
    "outputId": "3d1ea772-c01c-4f16-b6c2-c5a6600117c6"
   },
   "outputs": [
    {
     "data": {
      "image/png": "[encoded data removed]",
      "text/plain": [
       "<Figure size 1440x720 with 1 Axes>"
      ]
     },
     "metadata": {
      "needs_background": "light"
     },
     "output_type": "display_data"
    }
   ],
   "source": [
    "Taxi_table2, Uber_table2 = get_data_for_visual_2()\n",
    "Taxi_table22 = add_90_confidence_interval(Taxi_table2)\n",
    "Uber_table22 = add_90_confidence_interval(Uber_table2)\n",
    "avg_distance_per_month(Taxi_table22,Uber_table22)"
   ]
  },
  {
   "cell_type": "code",
   "execution_count": 97,
   "id": "y82hKI7eNFFt",
   "metadata": {
    "colab": {
     "base_uri": "https://localhost:8080/",
     "height": 589
    },
    "id": "y82hKI7eNFFt",
    "outputId": "23d026ca-0e9c-4731-c196-b662a26f2dce"
   },
   "outputs": [
    {
     "data": {
      "text/html": [
       "<video width=\"720\" height=\"288\" controls autoplay loop>\n",
       "  <source type=\"video/mp4\" src=\"data:video/mp4;base64,AAAAIGZ0eXBNNFYgAAACAE00ViBpc29taXNvMmF2YzEAAAAIZnJlZQAANuZtZGF0AAACnwYF//+b\n",
       "3EXpvebZSLeWLNgg2SPu73gyNjQgLSBjb3JlIDE2MSAtIEguMjY0L01QRUctNCBBVkMgY29kZWMg\n",
       "LSBDb3B5bGVmdCAyMDAzLTIwMjAgLSBodHRwOi8vd3d3LnZpZGVvbGFuLm9yZy94MjY0Lmh0bWwg\n",
       "LSBvcHRpb25zOiBjYWJhYz0xIHJlZj0zIGRlYmxvY2s9MTowOjAgYW5hbHlzZT0weDM6MHgxMTMg\n",
       "bWU9aGV4IHN1Ym1lPTcgcHN5PTEgcHN5X3JkPTEuMDA6MC4wMCBtaXhlZF9yZWY9MSBtZV9yYW5n\n",
       "ZT0xNiBjaHJvbWFfbWU9MSB0cmVsbGlzPTEgOHg4ZGN0PTEgY3FtPTAgZGVhZHpvbmU9MjEsMTEg\n",
       "ZmFzdF9wc2tpcD0xIGNocm9tYV9xcF9vZmZzZXQ9LTIgdGhyZWFkcz05IGxvb2thaGVhZF90aHJl\n",
       "YWRzPTEgc2xpY2VkX3RocmVhZHM9MCBucj0wIGRlY2ltYXRlPTEgaW50ZXJsYWNlZD0wIGJsdXJh\n",
       "eV9jb21wYXQ9MCBjb25zdHJhaW5lZF9pbnRyYT0wIGJmcmFtZXM9MyBiX3B5cmFtaWQ9MiBiX2Fk\n",
       "YXB0PTEgYl9iaWFzPTAgZGlyZWN0PTEgd2VpZ2h0Yj0xIG9wZW5fZ29wPTAgd2VpZ2h0cD0yIGtl\n",
       "eWludD0yNTAga2V5aW50X21pbj01IHNjZW5lY3V0PTQwIGludHJhX3JlZnJlc2g9MCByY19sb29r\n",
       "YWhlYWQ9NDAgcmM9Y3JmIG1idHJlZT0xIGNyZj0yMy4wIHFjb21wPTAuNjAgcXBtaW49MCBxcG1h\n",
       "eD02OSBxcHN0ZXA9NCBpcF9yYXRpbz0xLjQwIGFxPTE6MS4wMACAAAAW12WIhAAT//73sY+BTcgA\n",
       "DZc6inof4RWx9JBRerHaDj/DZqxyIAbo/sowy2pdrupwb0TvKq/mDnBvCGI+0fygP6C+i+8Yz0dF\n",
       "cnGHbYZplI3FKkfyPo6n9o4M9+Fu+TPBZG6nOKDWnD1yCmTbGkcodMzfNkVBI268j39TjHAqOQe4\n",
       "esmTzEzpPNE0XUmDCO3p3ThQBXK9iFi8SoJwPeyXbtbIr22+NYL1uGc+tiM/9gDVAIOXtJocKOyc\n",
       "IvSHQQPpsCVYunZ4dCLqir+Bw3JlNVt9hziG3VJAnx1de8SMwPWrRe0WF9iDmPhKtIZNliov+H+J\n",
       "QujE92jPQ13dotGwO3nU9ji7wM+okkoUhx/3PAMZFbxZisFzNxNbQHpYiEU8uX39iVvF1fp7ujhA\n",
       "t5+2UjImdRZUwTT3U9oO50MV3XfhtMHiBf1M+6OgR1//KmxVBekoIPdIbaTnURixy07ZLH7A5lu5\n",
       "qeF3HdVA7p7m7Fv5xSz/FMLvPpLkV1FfE7cdyOm15lLdcmsXrIRl+xpbzvdQf7LAE9kLBuj0s2rN\n",
       "EITSgH/FJULGlF9ddlidikcEKAV3RQCpjEivEUKt2gPnb774I4VnU1FjXjXA8t/h13N48z4Qmzyy\n",
       "p53uj3HESfx5i+hEXj3irZxHiWsunashV5/+6EzIIBSoPvKYfAwn8Kt2gPnb776kLhDKqLGvGuBt\n",
       "G/FN/rwxKqDnm8J6tFq6vG/NEDC2Y7Stj21Dk+Uop+jF7xx3Y1kkRyDaBqSnYxs8SMnqxDIJq9sR\n",
       "JALeL1gokdwGy5p2OB/kOBxEASj65vg/139fji/9ARN3VxVWbi81OlKk2K6qhG+yillnG/ZC2AGb\n",
       "knI9WnwB61iuzF4lRs0SYvTIBjcTIq7I/Am30pIQ+0zAYxCGzyZVc+4bJOr8jiOCbjGA0u5UuuV3\n",
       "jJcVAWgv9VcLO/2PYpkUJoaZojWveea2bY+fxJZBHPpGoMqnQExG7XCNbkJ9k8mmURBAVr//+hzb\n",
       "FePyL2nGL03lbe8oaAYpEhfdHZWgfkttRDxsyIZIIP+vN2Yol1B+VT7RDYI1NRdvZORH6sMBG5s0\n",
       "hnbfDzkwNpFbkZuXJ8Gm5tD6uxTljcf5L+EMXFy8vSjtudpQ2XKtqie/OxfQi42nB8+74791uLtq\n",
       "E7e7Liibw7xczvdC2T6IeRN6NB5bQYhDCz15iyXF/dQIaIXoPyMByClfDOITjynInHGDPM9xR6hq\n",
       "UwXnKESHhHi+7giUzHMpQV+h/cbPUGxtr2TwxyIcupAnfujzPkpviaKC7el1hBYF1ExOicdbfmwR\n",
       "JaG7wH4VJ4FsmE0ARu+1DRV3VQ5Gi/8WDecDkTIk99oEKaRttql5hJC5pRdFzgEWBzDR5lzkXrbf\n",
       "oY0uhivmKx9FGnPrtJ+uB+8DfUias57HdLgTwtAte5lL8fis/wQxxdqhTLIOOnpOfc2lNmf5FtDQ\n",
       "dfjk4bRD5aiPFkYhMqWjD4WzZSJNYB6u2cwc7GyiFWKKnoOpKIGGxt+hm0qc6tQ/fD3A6BlvBV6C\n",
       "iTt63HqKkKknF4uFAqNAi2bHcyTu5IwpBHemodmIO4+IeQ9sAv4Qz2XZouUIMD9dC7qugS6EAqce\n",
       "RHzk2zLnjtHCL1L8UVP1uErTGIjG4ziLR1iQ98AVtnmbSNaeg3nQIQrglIqu0v9zop6u1AJ8HBYx\n",
       "t8bR5DiHfy3lUKnJ5oVsnrXRDjHJP8gGCetbklNaug71D/Fz5qCHqY9s//gitkp8uAOqWYR8Qp2K\n",
       "TRY6MlAmUy3ww31Ogq16lT2RO5y99eBQo1w01daEEc2+lir8Zk1chA/bJ67zbESw2NwhcwUEZfOG\n",
       "QNBTLM+HhBV2Pq+oImGUo0qQeloV72wjLC6CggR017od8vSEfh9KKATFbGttHdenjlkF6IeWJO/b\n",
       "bgiq5p4Eu7JcZyVkRzCwJO+H9Lhwf1lc2ayPcoHGZV71aWawee9oh3LN08c/P7Pn1me+/+gA3dHF\n",
       "LZ489/Q8NHpUJHW7oLuiS4dqtPgbWaxfpTjJVe1xZViwThvkxl3KI5jFD6lR1ybbVSw9exJvsPAV\n",
       "z9jxhgAF0pn8mzvaOt5lCCjPPQNi+FzJCSmsOoAu3fxPNyxua4SdZbe7Udk7qB9eNtNdxXknLDuE\n",
       "6ffm7VK2QKLaItGOvfM4yRbMwGijll4RAYFoTR5BwiWIb96mq0z/rxgFN9ECx9cIz4txCMyBRrNb\n",
       "yXYbSvf/mph9c5/gAsJztX/4dX/BPzkHpbUMclZcEHgWpNxmUEAefnKGJmNWcKtpepRAhN1PuK60\n",
       "vPNrVe+c462ZUXfLykumXuu//NmlFHYl+Y3ywugYuzPAxSjgW0TSl7incSad/JpQ6eSGtAc+gf3C\n",
       "CLJM+MwjqX2PTKdRNv5CrOcrHS+Nwn7xPnwqWfiVmONhAFDZIaibvGQp/LZ2a38dqjQZa3/Bk8yT\n",
       "XqxdCCSzbiz1TgEPQ0y4HfVqklEdiK3URi6cjBaitfDVG3G/phNiF2DW48pHXSL9cu1N2x7fjrY0\n",
       "wvEMfMBheOk0zg7Ja1WpZ5FENcBWx44JITkgwOJAPysvEBc6IEz18WF0I2vjEHssbsbLjfGIqeS/\n",
       "NVMhW4TQ2/WQjpv8pMq+BXDqKmTd0cILH9+Mf+049UpPRUdhWFnqSdH5evLIaNWF7eCIESF2GFhZ\n",
       "QLrQhvjgO6P+P+lRBDEB20S4qifHJcxf9Ef31otjcz/hVJ5Zt49g7EsPiEMbtiQ3q/iiwpTuEpXe\n",
       "mL2nX8KvoAa4clBpDbwrPwptw6KlKMeQ6Agkrxwz3J310xteoSI/BIKCBFXa7MCORkQllg7Mkg1A\n",
       "6iGYoRqJ0ZjUxafurl//YySt2YGNmSEnt3IUQhwQAvgWUz3zIf5Wh/F+tqYWLu1BSBLrPfNdvd1c\n",
       "DQuYXCDyJn00tvpb9O/I8z0bfCV88/vNXC5dXuMoNUM8l+/uYPjW0gNRgOhgTZgWcDyX201MQoMY\n",
       "IW8UsBh74YIuLNdNwQspS2EwJGuV9gn/zKfxFZgx2r6n7ChOvsia6C9sZYHJu4PHyu7eTRN9CDHJ\n",
       "meWLIMm89vGvLMIhBbfuxOvRE2X13tw2H42YiIDYmVwiOe6cWQ8gFWonZF5o64NTt5P4w9A1ulf+\n",
       "1kpuGfGNCRPXHG1cRssWnelCRMxs66l8w5aIGv2UmIaV6elG/IOZJwoS3BK4yYPc+zFt5s14tsr4\n",
       "Pw1Es1x+Mc7rcAG5rCGM1RJRQcnS3FSXziL3RXM0x3ktHlobhjoykDjAAAANW8Q+o9BKyBTTTSmB\n",
       "CkLyjECD/6DcPWxa1njzgyYWNU/58VV7EuOnYZSWtrUqLIRf9LDZUKq12Jfcdz4cFCn98U9nuD/p\n",
       "iIX8TNVGqVWLuAvdPzDhWj4nFvQzi2+R4wNncNl/TOvgmFxGw5bVeVNHnzJHGuWE+cw3Ps1CM9FM\n",
       "BnCRhuFVJlDP7FYaXj09Yx2Cv+EJKQyQstAph/Ozs04nolam3vz1BUH8k1EXRGpUCGUxZUxgAAIl\n",
       "/jC1lNFZ3WSzYd5w95eUIAV3VA395vcpD9EaMHYEJF3G6+dRJvojswH8vt4Qlru5HlmR7o62b6By\n",
       "HyApPWzC+2etcOO7inWPU0ZIe9EuW0hlOH76OaJ0SWpVvuh65W9RA2X+NtV6ncXsQKMuvtqn4VJW\n",
       "9QFBWBqQ4Egp35Jcw1RH6k769HuxuiOMukchYSkjBdAhRbDqVl3FQ3DySvwAA//a37s3wcStSv0U\n",
       "BJYfoXbBAdinj9+buvDat/WBEW7XjW1IsUgZo5tMi+0o/WJvBgZF0TLcsHZrGPZvJ4VQz5tJBqRl\n",
       "B5Uj/x36oHP0cGyO/UkUIA/IkG4g+rYSOujSrchGYaJ6gxNI/FJbxPyVgy4Im5ggXI5MNrXFCpqR\n",
       "ZOJI24fNtCHYMV/pDpiljJ4RGS4bUNXZ/MvG6WhjdQz1AtQJ1eymLrngX5Yk7AcEZuwJiLAFUkb6\n",
       "udL4qL3SpRN2+Vf8qN83/hbKnBR5QekdEAx9E5qbAPIFO3vECcSsC6Atg9xf5W09rLJcxP7PsOnn\n",
       "X47h26/TrLoQir6FwzWhpC+WBJzUzs2qYj4ZdcBxc061OeE1p1TbKNKaSR0PPtHXYM4ddL7vlbIT\n",
       "cOh8DOg/wzbrja+ZU4HDfHg7vou7n7cMmnD0Rjjcqrmgi6zOCAAAzgelIfKNdeRdGwYbyOEde1Gl\n",
       "2MIFB/tVNht6COzWUWJ1pwh91XniyjvFxfKxPQNa7ZT1oYMVQ53QudrhCCEH62DCE3fVHUTvqBm/\n",
       "LPyR9Fr+i9F5H8pLtOLhSTVG0429M7Pa5wr+zUicDlioDDl5IKdRWgrZoUslfhRgByC1VpV9Y1SQ\n",
       "UNNzi2D10fuorLHcycAB//qkfUrgOnlH7T3f/ZKRf96Pgzf4jDul/kuWPNxH8DgstyzBO8Wi/4ey\n",
       "Mdfn4qfcJ5zltr78NpBkjKbWQMKOhNGtElE1n96DN0HQNptlgXsoHtp6kTZgeZsI7kVnk02F9wSJ\n",
       "3DLuTb2gs9E2/s7pWtxjDkWdTuB+4pkz4K7cSuK7NoDi6AUGs5dcMW3oife/1fMCaZmYGedqZlg9\n",
       "08qBNsvKNr8gxviAsc1xI20D0dElL/lhYn0tpWiLdiECtWaB8d5Wo1/hTmaGbCLJ5JmmusSmPbCw\n",
       "Pmg8rDpeebIo6yu4h10LTV/Yn+15L/RC7xjPM4+fYfzY0hOC07cV0WL7JmR7KIVvIRAbIKcchSbX\n",
       "KjR8OJoQiXAASBRtiy5ud/MeKV2NYLNrywSquzCem83+s2lee1IYL40d2AbLc48D+cNklrAwv2Vx\n",
       "T7tdsGg9tNABoXURWGw9VL3QI97KVuwr5XFqs8SpJaSBg4CC9BCXDt8Ma2gkKCpR3/p5lrwZqVKl\n",
       "6/8p+/YJDvPPUk/RWCi/OCPntvsSFMZM6J27yUDAlztAVoj0l9gCm9/GbK9Q82BQirD3GWN+zUpV\n",
       "fy2OA6OT7w8CqldjDHrOeWhotl7noUXnS/yavvxhIf/Q/sYVdcKD8pwHHJ+LuDYaN6qoFYDnnhfF\n",
       "JBRyGZwAY7DkZlYiGKobwm+914yDsA8gU7fYl/tkmRC9KadCJHG09V0zUsRPgUyhtiswPFwB47KK\n",
       "GTpnT5qaLTVcPALkeBl0O9iy4h5LlGDH5WmPYZd+15a/S/sh/sfP0/K1duTX4PfAgMXBERKXZa0U\n",
       "YxINE5nvVH0swg/ZtDagO8WRgkqshi+b6Lg/Q1y6t71Y6/jkIE+MBMXQBCbw/AAAAwBWQ8uBSNPk\n",
       "WABaqD+W3SEhyEC1Gytwa4bJvRHtHnMQN2iYXB6/eN0bbVZ7vvchfrKzFG7oiYN9v4bRX6uz9Yp1\n",
       "Gd3OvJHvwYppyTxvfdwqx8Mvt4G4OQ+Se8VzOWS9mkVA150Le/AaQXXAlwF0sWeZQzA0RtOpp/zM\n",
       "e/f4L/+pjlpwCpXeK4QshC1ovEFYVVYl9vtxFXfgkd7b4DoXb2qT+xClM8tvnJHYeCUcErOE6kBd\n",
       "DvyJjsVyABBWfPwT5m9ejp95WJW8giT165FMnfOvhHl4s/mnURDESpxuvnUTJidv8mo0fWM14VuR\n",
       "2kFURyy3lechlaWUHUrUnvE9WB83ohAS++ONRjlI+Y9j6ujk8xuKjmixIQV90/ybFaG8wO4IWca8\n",
       "zC3U6mEj1/2TGZoEF+gWdjumYiXTExfH7JjbrDWZ/ttIe5fvmKtDYTAAAvVOFGCeTd5eMSIQz4Tq\n",
       "RH0fUyz0/4it5TWTs55TBdUtb4TVZ5a6zF/7/iBz+Q6juky4GEk3FhVnQZScJ0y7pKm1SpqtJI/1\n",
       "PvU7ipCcACIu9+dYF6zVz0OXZwiLCC7qIb50Dfw3EGkxUVgunnRLv/fFBgFcIjzculmr3E5wV67O\n",
       "bb2F0EFtjtJ5RgW0DKflvqY1zeyr0Fnj6XT+eEimIosY3zKObEMTKjbuef7GkS2IHBdil6X4G3we\n",
       "Fj6DsOyHkmAeF4eHKX5s4alVsEuoa2ErTZ4indKTdaRCtlniS0KQPX3v5hFZSwk2iWztMEmLhvlI\n",
       "KD35KF6dBEAAAPDxr/oyPXkWe6r65s6kKNUGJxsEkeRiCnaUcm1tJQ7f2wKlGFesaylPDGfebozZ\n",
       "lELhmVSNYrUvS0vBqiKYF/fxf4/UXa2IQEFq/umOvlgySK88lbR/wpQd5v7KkGGy/raXhAHl2NTR\n",
       "ThRUKLI0S2OelDpPK5/P2yLW1cvkgao0i9dKI3EZtW3BRhpsxlbMDgnIVsO7RX5Dkje73zB27wKW\n",
       "0c7riMAJXAkc0Zbu5tar9H6T8WePN73mWAqTx6LGof9mnlplqCJ0DawJHdz2W2nd60HdrnVxSOx3\n",
       "n2A/39entBRQADScAAgmx+eZw8L3UBtSKvMlkrYDKLYKqu4BF3DaVjOB3WFLEgngqsow5OM5FpLo\n",
       "qwecqKKthL5RKmSCVAT7h9aB0F1VUpjfM2R05GT1hgv+Dmf3jnOuD6J/xBUb/xuW229e3NVgrxUs\n",
       "SXB2vKHks5yOIptyfPltV1I3InyqZ+tIBx3YYmn336UgrOcmejuHZFDvMlWHR4tSAO+kYOzeFKHt\n",
       "DpLUMr55HM32PXBAICEgXrThwfDwXVhb7ErFXe8yrjxNMZ1n+e+6rDF/ZwmcyKula0/qxWp0pr0u\n",
       "8TnJ0ShCuxG7j4tqqmCXgzzQdv4NtE0fYEOkp3CajcaJ37p6K9X/oXp3KGT5gg1i4HtI9p1aMbTO\n",
       "MwIhG8o0dW4SZ1mqwMFRUNYfWmctlSSL29tIrb6+ki6Wqwo55Rs1cj4OWqv0IXfoMb4HFh4PB+gA\n",
       "SakLQ7HGGgxG56hdod9MZ4LLloXb28/2WlwpMWHvHrBW3697f25EQvDNgKeuLiy+z4Ct0BfMwyad\n",
       "PpQpfJ9aEioMt2HHk5idX2Wc82qddhAytDXih1ZJ5KZsE77ab0Jdv/06ipkUF+I4cpQEWgxv/YC8\n",
       "nn5D5ELHvQhupwyvciUm0fvv3cK+Kc1f/NM7dbhZKTo00ZqHooSt+6HC8vPL2U49IOHzs0lEhhWE\n",
       "ZuQHvC0AgnYOoXilhwQpGTHDcHsLkFqQDM0BCk2qaZ96XlGSTI7YzgfU9cIW1fTjdvbbYBdS+2rt\n",
       "7aWGttcK3jjvBJaY8q4rUC2waCoP8/jwvsvqIxsSEBMB1pdipyOA2IOSA6dF4m4FC1JJTosdUN1z\n",
       "nX+gdEPGff+7L+VB6Ks0pq4uYTH7iKrU/urepM9qz9FqctozaH4uzMORtGIeWZb1FFcp7c/53+lw\n",
       "Elq2RbRmySzqyeqMGg9ls97IF+w6FPGTerAcVpZ7EBGWXbE4AwyrZEOUo8jSXJ/jtYrKJ55DdayB\n",
       "g9slx/Q6/3jIl1VsEo3pxP+x1N6wdqHquuA17p38+PzDET6amePqIAZvt8aTvEpWlHEKkruhzYCC\n",
       "ex85s0k/DEDkcUA/YoUpuy5zVikK8xAptrGdzd9OFr6q565KhIvTuKMSlhzQoHWuTU/nXZD7WI+P\n",
       "W8G/ZmruQJ/LdCWCQ+9P7RHcDTI60zRHMU4zUyywRg0D8/ip98gKV2Zi0B10U1VfreXp9aROzAM6\n",
       "XJoZLZ+6YSK97FwT8B0f+fBeePV4TTDnFoXr+frMXhOYW2BBMXX/MrftptY+OSFqoJBMx1yGuZBd\n",
       "wcRHbo+iQZRwZTaJW4JmgOqL0xJC8Pu/6LFUeepe6xRYM4Wn2F3N3BAFFdyNFGl93+vZMRHXDMqJ\n",
       "DIP6ALvufkfPN9GOuppOcDytpin2BajaQzjOeDQxy4FuNpi2k/siqF/7LN3Z732JRC5PudNtxQbr\n",
       "lij3U2hW7OVyRb/1H0UAV58IhQAADxBBmiRsQT/+tTFKNFAAt7dd0Oi/t91oXBhyK2dssPAY+9PH\n",
       "Nn0z3RnKS5WRoJ9+mM/KOG5dlAZZIuilh/u1wFW/awk/32X9raIUJgUg8AueL6AXFNCxOEGUt9So\n",
       "3zyt8f9z1Z8L6DGgP76xltUwn49r0pQm7m80nDO2FbtjhBsUMJR/5jjTKkZg4D/hgnY1kjx5Z80S\n",
       "vUZPEGm//eygFa9qxqfinhMmZ43Fy1CS1DvTdekPrIJ9B4ZLHlEv+fp+F/We0frjvmWq9WOUhDFT\n",
       "9aSYvB/rbfwsc1CJFihY4v6zlLBnAPPv7Ua/vWggGeS9uiCEbaeo6+URTgpVDhBLQVQqvAXzjXB+\n",
       "wI/49Dg91ruLCoPWabF5MyTNIw3h/H2QfFRxuuVpQikycYFrU0Ab895jdSOmEHI1N+KfIUndewT9\n",
       "Jr/fxAQzBB3GTmSc75Bequj45xyk9ZHS/ZkiAyshMMG5klN093JT6bgsY8wWnqTLgIk+WzTO1Z3R\n",
       "s32j6i8qVJteMVFacaBcTbhy+/+nbqOCTDYJ4gIkddyxXbJkXLyOkQ6CJoZCqKYIMA5KggM8HHCD\n",
       "AYODYkYFsaJT9O9bGLzMMmIWlyH9jICVqxZ5fy+xdxtsTaZOEhnmZ+6qwcmG6VD+tKlf4tD8ac95\n",
       "37AGzwckHYhpOKpNfbs9sLuwQEYhtvftZx9U7Nbs5uEcNN4/BW+maG8ORMPP9xOdT9LrzC67AMjc\n",
       "xafIT4LbzNoCxrHA3HBKRjOl+KXiNdXwY3DTdQsTEydVuhytrpdaxyOUCVjltdQu3BAKV/9Z9yOw\n",
       "/dz46+oC7ce6O2axIoOXZnDVzx0j37XYR+iHb+R8NeETwmZOVXJOjsJMdP+36zf7W8AQO9snRZmc\n",
       "7+FCI+yAhxISeFE8nvA6IrS+dpznWvLLmxsIyGtHE5fmuhtBLpTl556ptNHnoCKjOqE2ksPvoxm0\n",
       "XlBvhoE0LPM2Fegzev6W431iSn6JSZ82iIwzNdPbeaPbDpNfP/cBUJfPEUArDxwEIrLcMQuFLbFm\n",
       "nAoO9omTum/sgQxV07FAJxG2IR/ZhVfdVDU7IpREmQ39wo/uBOETfJHdjQtmjDSo1NR6TQakVAnC\n",
       "ORegvTaDmctnSv5bzPYENcOP1klNIFnUFb+N+AmxsgKEZSOznZr2jffo9QO5UDN+dFmTJiPyo/ts\n",
       "K5n+I9MEYuzM9WOBcnWrb830vJ+yhY8e/K2MCexqf3s0JuBktfBjHkw5Zf5WIB+OJ11NUEAgRwTA\n",
       "exFauhpu3gAvLQaHq4ByVwHCPko2z7OeC2yMheKbrWZJAWJOtqlZQWWPcTpFWQ9gJlFNkj98NRDK\n",
       "yJ4QrIXUHJSLZBtXp4is5AjRB+mlEeD4fInAFziuTHuM58USsrZRhGnSXgiOrRFVoS8FlRAESoJJ\n",
       "6JszzxgdLaBWJm+gfN3gowu8hupn8Pm5+QHYGHYepVPaq3sxgtH1icjBu5769CIP9UrCKBSq1ayP\n",
       "W2iozFuomkQt4u5quXGXYg291JMh8xDKNTrVcvNatjSWFbJ/iYCU5EAyRQf6BNhSF7WvdwneAyn4\n",
       "jJDy/qlvp4pz3Wa7xPrWN5rbhyBfZHgE0jyw22qULbh6bOUgBjVJOYCBR6xozBg9RAOKxvfJWK4m\n",
       "Y8175jZ0HoqK3ZPrpRj9ZF1En1BPdrwdBkkQ193aTOqNMlqCbOUF7yCCuynktK7Bgcz79gGO4FXh\n",
       "VvVGTn50SjAaweZG24u1krCVWO/euA9CZBNZMgCxzfoBok3528AG5ZO7e5oBPXOirr+SeCggGyIc\n",
       "VKXnEaIjigUs/GHc+OsgdO2Bye818Jx30iKNK6fPOkji8JLGxhaX5pkjMppZkvfm4LvLF0JtZzKR\n",
       "CtJ6yfSaNiiitAlunh0VBPlMFAO8d98d4liq4KAkiUyNPBKoBj7G/kSnWbNJWdOv2QQP1qw2Rwi1\n",
       "Y++fUfF8F4xQdv+9hYCiALa97ccbwfsUV29Mk5ee6HbTk+AQZHrmuqwv41b0OCcB7Sd8sQgnamma\n",
       "4x7Irthzvmu+X+rz0f/75cXZ1Z8/xaWIb4tZxso3U84ZF86cvUzrzSAd9DvLupbQjZSlwEP0jvAA\n",
       "A5VdKiPebTa4Ufany2DpR6gAj/fsGbN23KLkEfUK6fKxC846x1KGz37J0PyFG7jK/PvXBsc5J6FS\n",
       "kvMPWv2JxZch7BG/XQ2NabEu0rt33Yr15BOsvIzRd/93S/Fl56x6jUbxcAM9cABE1cPaC+acIuaf\n",
       "hWG9ZSpCr5Vjc9xJiUQi+TxB8uvI0r2yRx/C3wp+jBZIdlXRvoISa79XG/uE7LlBffgQUWFwR0k6\n",
       "0qPwgx2QneXgCdx8O6i7AcFH84C8Z0MF0pcT4/1x/j/Ma9BA2/B5QMKszmD+JFvVicU3r8GnmYDx\n",
       "cXaWy7TlZv3W9EDWUCIOhh73xHsxoxAm423CEK+qnYlk07A7+7GG09m5oRfJXcjRkT09pO5nL4ss\n",
       "D1LJ7oZr779lOz5fekBxWrEJrQimGk9v3xdz7lQKHPgdpa/BFSVsTIHvXeDbxZ0d4BYqUTnJZhPw\n",
       "Xs4/0p/bvZUPa8lF99ao7CcoWGHo4M2nOuDlJAeYfC0GcxpDzObcIPs1sUDCfZM+I4+mQRuUa0Om\n",
       "SwztqbiYIuD85/TU93WzP9MglSwe8IjfNv5DcuLvWTM8GDZs0lXjYv6VT7Gv1njVps4MEUNm5xPb\n",
       "Us5784J3ig1l617qcfrC7suRBB0SN4TWZ9jbMxAcxDkF4bRxLghXB5G/PbbSMG1puqmZWUyW/b+S\n",
       "i0md5rnW1zQlzIVFOtJT5N2fqVoR6mDm3hC0hlU0hxx8Tc8AiA8i6UPPEWneMewnZLOCHmmE6PKz\n",
       "3UkiJo3E3KjF/fHMt5JMelLtuHdNhsnAcqjDQ2UXNmIj405RuuV9SleNC+6mV+j1GgriY4R4Dfx2\n",
       "1BDwFDxWorYmaWcUAn/mwio67RugJXZPOdgDjbBq4013XNMxDJKPw04U+4CNAlU9/rIwiSR+nv+o\n",
       "KhpcDlIgc34XJYOSTe1EHuZw2KbHF/Vv133vA0EaLezPgZj/9/T5Ecn+hMiEaluxAFrOC/UC2Fr5\n",
       "N22mHf4BHCqDcQPpfh0Xau3K2ZIxGp4u5s7MAKdgqk8CheuzqSlc36HNtWUwVIOJf0QR7XrzyGaV\n",
       "wf5B2z5WRUGwN5sYTg/9TC1DFib8nJrLeueGMgdLDyy/StofF6Xgqm3VYUzrEqwRuH7LZLIZIrgZ\n",
       "3odHgmkEpayYoQLzk+l2rWrEsBiCIZoe+Ol/qtajqwRMClNMzDFBfMpMx7OCnjcs1eyKX0HOlRvf\n",
       "lTHS7vm7KQkUdDUqF6gFGar+7TKkI7IDjwaLy4taC2dZmqAS/UGAZzQ1JBCt26/mzHuIeK9yvUUP\n",
       "kL8UD2ZOyPba5MYkGmXFQDxwTM77HfYpvBxrZ8VyTkdoi92gfKya56vRtP3PsFSsUMpi01lA5g6h\n",
       "jDI04UJhoy5lekFy7zwGsTEVCduORFmi17C5zNfXbHo9aXngCeA0IFH/LsWb0aD4TfBjW3Syqb/E\n",
       "SsIWt/EvvuClnuh1uEQ/gDWp+5eSu5mt+zk3pR+JnDEQYUavRQyHtvKzeKL3Bi+YO44F8HwY9rNz\n",
       "5zj2T+ZrfsusDAZyolmtjD/96vBW/enh2FbzVLYqmiZR8TUdKHT7pDlDVKbXFJI3Dq9d/RS3qoVa\n",
       "bj7c9HjGC5dBleoAEIGgOsB1fSYvYSq2iE7YdFofdJaUGFmuqbTVS/d3s8HtHJE/CRHMIItbjdLp\n",
       "c+1zdBtJrHRL3bkrBgf5y9wFptOmONpgQVrox8VoXry6MYOpUe8nUopHP6PbWMjQu14RBa498OuC\n",
       "32nlgQXKaWLCE8ZN70rXmCuE92sth0Fny2MoYTiID9buUkwZ+/aIMlMzu0h3rurklKAAZxzWcre5\n",
       "6ZjYwxAHhMdk/OawVZ3AywCAV/qAGbx2HvikWYU1RHrJTYmoja4awlzW7bcVK+pHOmBzAkdoU2pD\n",
       "kgVaFW1CJD9A51nwfWeqlcXkPEIwjqa9SwSgEWUh1UFqpqkigSKH19g1HkSmxyM3Hul5fs6Ch9ui\n",
       "X7L4vMcxbBlLjXOR4/Q9FgCStYhfZke8io3SzRqooT1l+l51fCeXiUOYi3kZe+E8Ma80GQHbkZo3\n",
       "f1DvB5o/PXawLjqQSyu6GuEoTcXfqonTYQ/6JlRnLS/SAZPDHyYn7Voq9g2V69UcUHNxUNTogvbs\n",
       "Yz85GrTVQzNOX5Rrm440nzON/xEzU0EAAeBCK3xmwONSGwB1cpEyzgQRSOgEqnqGdX9XmVwNIiST\n",
       "Xqbsz7aWoejGo8AXTRbASohFSvewZv/u1MKhl7O2G3t1bVidusXQbK7hD5VfUGvOnnbMopuqbBvh\n",
       "xGaC7fIh8o/x4Y6C1uPzy8VwHcIBfgMqJ/DAJYq7UoZEuroFhI2usy8UaIjv6f3hSqK1gke3Qo6m\n",
       "DjkW2AC99Q2vwqv73B15exni+Hs5tXbW+TuhwdhwSUJywjz0UgxbWp3JAsGccv3MXc9kbHguRlFK\n",
       "0YzjvJvKaZoLBQHFPyqgUiU0EnNq612Qleu4gsIkHIEWCv6gLyNf5mzxsgml2K/hvKoLe6K352TT\n",
       "ggqF9kTs1/hwex2ZoD8wNWB4so3td+w80jY2A4Ys/B0aVuicDErxRqQyV6J0fIImVvMW7vdQ7tvZ\n",
       "FsOKpAiqPftYUdxGyCy3loYoHMG6geZGL0DZfrj7XR2Dtp0Gfeemc1YaPJ6KwDTUo2GMhG2N5zpk\n",
       "48blUH2QGrI9Ie/lzfhCRl5VP/AQKkiNcQFy7FYzFI9FF9Q3z1rq/M/YevJpQ3qpDTANpzKkRIqw\n",
       "PTgBgDdzgSnPQXVxJk6gid2AE3FRawcKIAZhYDkZsLe2kaYqMdyf6b/rU9SeaMrZ9bti/zs+JrKF\n",
       "ekRgntZx8hjWPn/TGAnaskr5+B48Thp63Q4AKL9kbhl7vgeeybb+3cZEcRu89OOgGu5cgALEUVm7\n",
       "dADjfDmsN/Et/En818l0GG8dM6CsIEjoPA7kVlcvxVUE2pI96WdwyLHa6ZOazROCn0anczKqvXFC\n",
       "LSTA4pWmidPyNRFRnVZVrMQPJ5Md+qomvIgmFnXrVyaNHbZaGVTQ2CEmga+AlEWD0TyR8UAnmiNu\n",
       "NwtAAAAAh0GeQniCHwStaGDz0Cco/K2CR571G/lrW4lDiSLO8K3ENxWq/7HGaADVwfzLA2EX3NfX\n",
       "o7XJZkGvKaojxTnKHIAxHBmqa2iIM577pVI9rvljol50kFMDcnK2jHQxm8pHvkdR0LP9fifKTa8o\n",
       "wxEGGx6gzg28DJ7kPW9dVzbTC18g7GY9SQIVsQAAAGEBnmF0Q/8HhtiKXB/x/cFYbHeYVclPsPFK\n",
       "ItlpI8Qm95dxtRitLks7eerUoB89k5MtcCZMtExYW3N0D+q8CeNXG1CrfXETw1YGZ+o29X0Pi/6x\n",
       "2ZdJTt7FSifdbEEUdYiYAAAAbgGeY2pD/wAVBHzUTaKMx40RdpmnDIwAlUpXnVYKu7o2W5XwiZwF\n",
       "98ohUa4DBRrMTbGRBUJcPvgPw0BLkr13CZJOm+YCijTZtIojo63F+4JRo7oSM0iig3P0G3fuQJi9\n",
       "T7AVuCS2RgCOSaJCtrqRAAAIb0GaaEmoQWiZTAgj//61KoAHUOvtnWIALc752IRpqAzWX1PfnvTS\n",
       "QMY+H6TBm73EiekfpXRbR1vHKxeVltbrD8Z7sxPm06OTON+gKyhuxSqJCP/CzZvrzMcETgADf85e\n",
       "IC5wljxajOvGN+nVBOGKgrCDMStM3o+9Pus0j6YV9I8Uppr1zwb4MT0/XXSJ0vpYAZQQEevGT117\n",
       "WT86GFpyoxuUvVYpuotPp7yPl2oXyq1y3zihKXgJ7mThcJURYtenioK+a+Ez2TBk/5h1YPMQ0s8U\n",
       "Z1PpPL6dG/N/4N0nQe+P/LPVIEwldQcMPC69jsuMHMYy3x/xId13z7fZ09yh6bGt5n24PB9IiNBE\n",
       "hWZ3OCMdpr9nd1NyZZiI6aGOVORBO7S0LH7yE4tRViDfIdI88vvvWWVb5FiKg1HytDJsZx5B3L96\n",
       "vPa5OKplQg3trmL5CC8Qsokmsv9TvFEG7EcXei7UYDjxkHnOoHKP2FfRYvaeg6wYzmGwp0oiElCH\n",
       "KN7eAi7GC7RG7cT9W834o+XlfWMn3NaxqeldeuYAJAGLCCZ/Gv7iLMBRya3jrZ3Yrfl9FMkPiSi0\n",
       "P2DsTIiWWay+lfkNOww11l6vLnBfTMqnY2Avw1ICxNFFAYWSmJ+mAlnnTy9mGd7Y+S9lch4sKhHZ\n",
       "oWUAcsUpsZ6yVuWlAIZu/eM/oSPmuGMtGURaIXJdBaD0ubX1CFShjGcXDHoQ2KW7Pdo3B5sA7qzF\n",
       "lmVkV77/cU3utST3sWVjz++4a0sWVgLI3pRQjSrMnX+40MHMoQ9nNtaYsPmX2qcn3jPpNwqbe3Z6\n",
       "BevAXvfpKeunMQaBXkBU4UdsXVo42c8zncuRrsLHl4SC/JJ3CBdZF5WW4xUJWCkI+G4nefBO/B6g\n",
       "3ai3Y62rernikBkea+ftUCrY58eq4LJcbkeUbnJWOS3LmfFCWfc/yReT/85Ka36xZ6vDXhNkWE4q\n",
       "mY1FeYMAmFg5WSh3BGn8ysSdsN7Ba0Kjvi1qRL0bZ/f5KvNi+qbU1bN2gaf5npZVeFij0EV9hMxs\n",
       "O70OVZFrnYhHwK6m8FzjbVXSmpA/phCCyhn8LxhgKLUdsyENt6Cwe0xZu1KUHz419BhdFl1J7Dvg\n",
       "Q88/otnqXDrQ+Ij0EneiCQzzHm+GPAebhLyRPVqjIICJhDNr2VYmNPF11g9GkoS/r8iskDXq5HFv\n",
       "cUfkJEraP4Ckuht6BQOjq3xMnAR9JVqSL0c543R6oa96Sqb+ogdYjQ4bARKcle3ABTWqINI+HfV2\n",
       "BPskW1BDhCfOYVw6a1rtP1oZho4Z7OqqRddyCSBVsudus0nPwPADBO5qypMGgrkOgHgmQ2sDhpby\n",
       "dOBl9VtVPtdhCzJab6D1T1azc7BIXigSgUg++s3dQCuaE8MXYwuvr719rbRKhew9NPqWfUOrcNPP\n",
       "48YMtmRCMTT4qzTeVOxov3akGJQC89uQpcDGyO0KmgKuZV+h9AGRP5Cj1+L6oH8q9fC0E7qutmqo\n",
       "IR5BOKeBWUueZ0SaVPu9/ciTfujtUVjKFgjTKLyJWPfVwsaXZAE7khIJlUYCQWoWpY9y6IJs3N/X\n",
       "bY1tk6skKZxiaK+9bIiJ5jEeJN66DB8SUnijVy1TxrOnk+nQBTqP8LkiNiBAOXdRyKzkKajRT7BS\n",
       "XVxdY8x7uN/GvfSHK8ntHXYZWL6PtevrB2R/kf5jnsIPJ0i/C6PD4V6fU9nzHWeN4nhYBeyF5y4D\n",
       "HDZL9p4aFZX96zfvD0feegiVR5tfHs6gOxAtx+5rkpwzllC1idXgcreNMTluRWkWLZfibH7tYcgV\n",
       "HeM4XDwS4VLkOanYUBPvlr114cMM/r0GqjkU0VhK+MV+TCALra6lTcJLLLpLUGnsiqlANY9RZS6V\n",
       "jVgnr7IUjV5FcE8u0AEW7jzyMfbpEnC2nQGLgt/LVqtVKHzuPqID37iHTXM5z5zQQHX5TZaln4Q8\n",
       "Nt045+anlQFU5fIrThTzm1Af69vH1Qf127OP1JWtFb6fVOsk7SKouYk1NJk2vuMFJIhOKBsu1JTz\n",
       "op1DuBLC2ZSaP91kjTGrf5WPTCstENMFwqh80rHRI1rVEtG4WeVeIXinEUSv/q6giYI2BMeIvWgo\n",
       "Vhvpo0n4IfCkfiUiAFNizMCz2JfcOYk97rc7qxKv8IZpmz8qbX/o3U7dl7pXWfGaEWdxH4BOJ/WA\n",
       "+kghX8QJoOUgKnMDLiaG8g/9VI6NCP4cn/GOt4Go4rBmrslNjNFjUlo6z1QXGoLMEoImAxzTqkwJ\n",
       "zhTevz8Jl0YMMzvQDeYfpSdHwLA4Nx4xT3zw/D3pio3pH83Mze7P/XWh7QiNgBxu5qRntOmrNJfW\n",
       "yWrulVI6Sd+EEV9l5bFlYHo9fwVBobCMOUNieHmb/g0IYclwvZtSFeF3ws9uhURXamTFNIF3ISh/\n",
       "cDaa5rcb/IpXL3AzILyGdIRxdAwrILMFgtVrx5n2p8gdFLvS+yuX3fCY6ALfzl05g3DlntoZ7jZD\n",
       "kCgQS4uFb2uVWFLHVXjzX9ggCzxO2x9qBmX1B4Q0vyfT8SmBHJiYbyPbAYKkl0+gdUQMqFaVdtad\n",
       "ePArn7v4zXiEUtkO5sVIeBb5P4g8SSOGZvesVtIz7Iez/1KvxqsE6H5foS/+voChXvN1NsyZvbng\n",
       "qT++ajyLWo81X0faI6o6t1o30AM93dNXD0ut+V/c9y82RLQRoFzzJ4IHf+6cidsVoam4C/e4BFgE\n",
       "q2UUGApJEAmonqeWA51bq2wJynk9j3/3ZXqZl99n44va2C6e85G0Mh9iYK8k+sl15+/VNen/LW6B\n",
       "tdPkWC9kpcwTXwUz0ZwfunahIu1JTuC/ZB4fPFHPPq9F5rWtaPBfqA8BGayUtGSM5KGAsDvGjiTJ\n",
       "/djJ70fMCyAJZNALAAAAg0GehkURLBD/AAkqHakmdUAK81p3wk42vL/nefTM35dvcSKykYvMP7cf\n",
       "Vgc63OUxxPAP9GlRI1bk0AVmLTk4w6B3f9AVmp9/WjjW1sNDZ5mgj/9fCu7s0+QLqbdEDf59yU/t\n",
       "C0GVTmYMLVcz3xrJEl6gHZz28DfhnD9RKLKg/TJJiNkDAAAAaAGepXRD/wAUcW3RAkORGACdvjYq\n",
       "4B7edmCGkLXzLXqtIS0GX+7IusB+rHJ5givead5n2LYAOz1RFIJewM5CryHaJc1lQAaTnq5eZ4jc\n",
       "27VIaXE5hjy/vNA4/h4jRSU+r4oATY+jANaBAAAAdgGep2pD/wARWVp7Cel2TQEAHG+PLryFcaRY\n",
       "FxRhVVBSOOvGdZa43phql6GbLioS6Kd9N1EiiFJCzEzZvjIrDtOoqvg2m37URmAOinVtbQ/iXzb9\n",
       "u7i0F4BEgOeHBstc00/1r5JpeYAg0IqUUw7qu7AOtVJg40AAAAKKQZqqSahBbJlMFEw///6plgAp\n",
       "PY4cAE0yRcM9XepSfsN/h5cPr4GCyNSQwHlmi1iV2bFCrhhFwsaIqQjFZScmfYcSgKa37ow9/4tQ\n",
       "2YbYf4V8yjLte21Cj05cnkdYB+/9J1f5/TKiUPwSJjMUQb+349snm3RQJaR6pyU8jnEgJ1GhDx9d\n",
       "WjTo0w5uGcTtKYIgokjkz5rwdz9k7R1JRGVBuJq388NTsvCiM7z7+IORxfOGlqvC+WlYdtWr3VkA\n",
       "Rj6z7t5KaAMaHBM8rOukCaBB2R3ujvxiW7gvm1358RF+GnCgVdbUbg3ibQex8wvmxhI2YmgqkONi\n",
       "26ljQ7t6aFyDjhOU/QlCWGrKTes44GIyXvjaAG737cF69jm44xnbzJsCRZlprjtiG32WGZ7+3CE0\n",
       "gTNR1z6ue0aj9zIHx6ggVyEeOShaAE8Oe71eiwB96AX5n2iEdzNGJ44NlS4OERB+hx9L7vuo+43Z\n",
       "aak4RedTe877FG0S2LEOY5VvDKoIPs1EqM+RCNzKvOkfT0fOzOHGITDeDJtcZMMNlydPHL426DDY\n",
       "ZrfBVgcWpYpEoZ0PjCEDHp2aPaO5+We72WMx02PEhaYH2e/ZovrOuD+MRfJE+5iHufUsiUzIIlgR\n",
       "Q2ccLJGvhKzy0GY7oQkwMy2coK/vtSDOII0alvopmiZyRxBThd2denNMM7xtUCCO0o3T0XaDPXlx\n",
       "7MjrJXzyXBQyDjibcZAme02MN+z7HxeGgQaUE2hy6aOC7b2iR24JOnoLxJu8dsX7fWQBy9iO21OY\n",
       "tS3uLiBQ9b8efCkDO1XrPQf4xynOceqdLf/ojj1uTQkcY5zTpDTC5+4/yahdXkisR7wQdIWl4+Jp\n",
       "AFaBcxAAAAB4AZ7JakP/ABEobgX6+4MK906mMAJmUJOoTE51tHeDlMe0LP90Kpj0gyUTZ/r1Miz9\n",
       "jTuFP3ctr/FiYm8sZMTD7p+rv8XxfK1MY+3JF9hcw0ibPyz3PpxV2W8fcfeRY8Cu/mmWGam+eiGa\n",
       "qgGruxGedoDIMhlnpJKBAAADtm1vb3YAAABsbXZoZAAAAAAAAAAAAAAAAAAAA+gAAAiYAAEAAAEA\n",
       "AAAAAAAAAAAAAAABAAAAAAAAAAAAAAAAAAAAAQAAAAAAAAAAAAAAAAAAQAAAAAAAAAAAAAAAAAAA\n",
       "AAAAAAAAAAAAAAAAAAAAAAIAAALgdHJhawAAAFx0a2hkAAAAAwAAAAAAAAAAAAAAAQAAAAAAAAiY\n",
       "AAAAAAAAAAAAAAAAAAAAAAABAAAAAAAAAAAAAAAAAAAAAQAAAAAAAAAAAAAAAAAAQAAAAALQAAAB\n",
       "IAAAAAAAJGVkdHMAAAAcZWxzdAAAAAAAAAABAAAImAAAEAAAAQAAAAACWG1kaWEAAAAgbWRoZAAA\n",
       "AAAAAAAAAAAAAAAAKAAAAFgAVcQAAAAAAC1oZGxyAAAAAAAAAAB2aWRlAAAAAAAAAAAAAAAAVmlk\n",
       "ZW9IYW5kbGVyAAAAAgNtaW5mAAAAFHZtaGQAAAABAAAAAAAAAAAAAAAkZGluZgAAABxkcmVmAAAA\n",
       "AAAAAAEAAAAMdXJsIAAAAAEAAAHDc3RibAAAALdzdHNkAAAAAAAAAAEAAACnYXZjMQAAAAAAAAAB\n",
       "AAAAAAAAAAAAAAAAAAAAAALQASAASAAAAEgAAAAAAAAAAQAAAAAAAAAAAAAAAAAAAAAAAAAAAAAA\n",
       "AAAAAAAAAAAAABj//wAAADVhdmNDAWQAFv/hABhnZAAWrNlAtCWhAAADAAEAAAMACg8WLZYBAAZo\n",
       "6+PLIsD9+PgAAAAAHHV1aWRraEDyXyRPxbo5pRvPAyPzAAAAAAAAABhzdHRzAAAAAAAAAAEAAAAL\n",
       "AAAIAAAAABRzdHNzAAAAAAAAAAEAAAABAAAAaGN0dHMAAAAAAAAACwAAAAEAABAAAAAAAQAAKAAA\n",
       "AAABAAAQAAAAAAEAAAAAAAAAAQAACAAAAAABAAAoAAAAAAEAABAAAAAAAQAAAAAAAAABAAAIAAAA\n",
       "AAEAABgAAAAAAQAACAAAAAAcc3RzYwAAAAAAAAABAAAAAQAAAAsAAAABAAAAQHN0c3oAAAAAAAAA\n",
       "AAAAAAsAABl+AAAPFAAAAIsAAABlAAAAcgAACHMAAACHAAAAbAAAAHoAAAKOAAAAfAAAABRzdGNv\n",
       "AAAAAAAAAAEAAAAwAAAAYnVkdGEAAABabWV0YQAAAAAAAAAhaGRscgAAAAAAAAAAbWRpcmFwcGwA\n",
       "AAAAAAAAAAAAAAAtaWxzdAAAACWpdG9vAAAAHWRhdGEAAAABAAAAAExhdmY1OC40NS4xMDA=\n",
       "\">\n",
       "  Your browser does not support the video tag.\n",
       "</video>"
      ],
      "text/plain": [
       "<IPython.core.display.HTML object>"
      ]
     },
     "execution_count": 97,
     "metadata": {},
     "output_type": "execute_result"
    },
    {
     "data": {
      "image/png": "[encoded data removed]",
      "text/plain": [
       "<Figure size 720x288 with 1 Axes>"
      ]
     },
     "metadata": {
      "needs_background": "light"
     },
     "output_type": "display_data"
    }
   ],
   "source": [
    "distance_animation_2()"
   ]
  },
  {
   "cell_type": "markdown",
   "id": "gJh-Evibd_sl",
   "metadata": {
    "id": "gJh-Evibd_sl"
   },
   "source": [
    "## **Question 3:**\n",
    "\n",
    "We create a bar graph that compares what day of the week was most popular for drop offs for each of the 3 airports( LGA, JFK, EWR).\n",
    "\n",
    "Firstly, we set there lat/long coordinates boxes for those 3 airports.\n",
    "\n",
    "Secondly, we combine date and dropoff location for taxi and those for uber with SQL.\n",
    "\n",
    "Finally, we count dropoff numbers for each airport each day\n",
    "        and create combined bar graph.\n"
   ]
  },
  {
   "cell_type": "code",
   "execution_count": 98,
   "id": "bBtwUsqpO5iO",
   "metadata": {
    "id": "bBtwUsqpO5iO"
   },
   "outputs": [],
   "source": [
    "def get_data_for_visual_3():\n",
    "    \"\"\"Set the lat/lon boxes for 3 airports\n",
    "       Combine date and dropoff location for taxi and those for uber with SQL\n",
    "       Return a single dataframe\n",
    "    \"\"\"\n",
    "\n",
    "    # Set the lat/lon boxes for 3 airports\n",
    "    LGA_location = [-73.886772,40.769395,-73.858877,40.782313,'LGA']\n",
    "    JFK_location = [-73.798347,40.639498,-73.770452,40.652441,'JFK']\n",
    "    EWR_location = [-74.189625,40.685134,-74.161730,40.698069,'EWR']\n",
    "\n",
    "    # Combine date and dropoff location for taxi and those for uber\n",
    "    # Because Uber has no dropoff date, we use pickup_date to stand for dropoff_date for both Taxi and Uber for uniformity\n",
    "    # During this process, dropoff locations for 3 airports are separated\n",
    "    taxi_table = []\n",
    "    for i in [LGA_location,JFK_location,EWR_location]:\n",
    "        Query3 = f\"\"\"\n",
    "        SELECT strftime('%w', pickup_datetime) AS {i[4]}_week FROM taxi_trips\n",
    "        WHERE dropoff_longitude BETWEEN {i[0]} AND {i[2]} AND dropoff_latitude \n",
    "        BETWEEN {i[1]} AND {i[3]}\n",
    "        UNION ALL\n",
    "        SELECT strftime('%w', pickup_datetime) AS {i[4]}_week FROM uber_trips\n",
    "        WHERE dropoff_longitude BETWEEN {i[0]} AND {i[2]} AND dropoff_latitude \n",
    "        BETWEEN {i[1]} AND {i[3]}\n",
    "        \"\"\"\n",
    "\n",
    "        taxi_table3 = pd.read_sql_query(Query3,engine)\n",
    "        taxi_table.append(taxi_table3)\n",
    "\n",
    "    return taxi_table\n"
   ]
  },
  {
   "cell_type": "code",
   "execution_count": 99,
   "id": "uzZrm3dUPGf1",
   "metadata": {
    "id": "uzZrm3dUPGf1"
   },
   "outputs": [],
   "source": [
    "def most_dropoff_airport(dataframe):\n",
    "    \"\"\"Count dropoff numbers for each airport each day\n",
    "       Create combined bar graph for showing what day of the week was most popular for dropoffs for each airport\n",
    "    \"\"\"\n",
    "    \n",
    "    figure, axes = plt.subplots(figsize=(20, 10))\n",
    "    taxi_table = dataframe\n",
    "\n",
    "    # Count dropoff numbers for each airport each day\n",
    "    LGA_week = taxi_table[0].groupby('LGA_week')['LGA_week'].count()\n",
    "    JFK_week = taxi_table[1].groupby('JFK_week')['JFK_week'].count()\n",
    "    EWR_week = taxi_table[2].groupby('EWR_week')['EWR_week'].count()\n",
    "    index = np.arange(7)\n",
    "\n",
    "    # Create combined bar graph\n",
    "    plt.bar(index,LGA_week,width=0.3,color = 'r',label=\"LGA\")\n",
    "    plt.bar(index+0.3,JFK_week,width=0.3,color = 'g',label=\"JFK\")\n",
    "    plt.bar(index+0.6,EWR_week,width=0.3,color = 'b',label=\"EWR\")\n",
    "    plt.xlabel(\"Day of week\")\n",
    "    plt.ylabel(\"Dropoff_amount\")\n",
    "    plt.xticks(index, ('Sunday','Monday','Tuesday','Wednesday','Thursday','Friday','Saturday'))\n",
    "    plt.legend()\n",
    "    plt.title('Most popular Dropoff-day in a week for each airport')\n",
    "    plt.show() "
   ]
  },
  {
   "cell_type": "code",
   "execution_count": 100,
   "id": "p01ueZAbPh7j",
   "metadata": {
    "colab": {
     "base_uri": "https://localhost:8080/",
     "height": 641
    },
    "id": "p01ueZAbPh7j",
    "outputId": "841b17f1-a45e-4b2e-bc04-c274c49f1466"
   },
   "outputs": [
    {
     "data": {
      "image/png": "[encoded data removed]",
      "text/plain": [
       "<Figure size 1440x720 with 1 Axes>"
      ]
     },
     "metadata": {
      "needs_background": "light"
     },
     "output_type": "display_data"
    }
   ],
   "source": [
    "taxi_table3 = get_data_for_visual_3()\n",
    "most_dropoff_airport(taxi_table3)"
   ]
  },
  {
   "cell_type": "markdown",
   "id": "StuQsN94d4qD",
   "metadata": {
    "id": "StuQsN94d4qD"
   },
   "source": [
    "From the above bar,\n",
    "\n",
    "As for LGA, Friday is the most popular dropoff day in a week;\n",
    "\n",
    "As for JFK, Sunday is the most popular dropoff day in a week;\n",
    "\n",
    "As for EWR, Sunday is the most popular dropoff day in a week;"
   ]
  },
  {
   "cell_type": "markdown",
   "id": "Z_F4VDcmeF9s",
   "metadata": {
    "id": "Z_F4VDcmeF9s"
   },
   "source": [
    "## **Question 4:**\n",
    "\n",
    "We create a heapmap of all hired trips over map with folium.\n",
    "\n",
    "Firstly, we obtain the pickup_latitude and pickup_longitude for both Taxi and Uber combined with SQL. ( During this process, we use pickup locations to stand for hired trips.)\n",
    "\n",
    "Secondly, we create the heatmap."
   ]
  },
  {
   "cell_type": "code",
   "execution_count": 101,
   "id": "0K4BUXUNTh3-",
   "metadata": {
    "id": "0K4BUXUNTh3-"
   },
   "outputs": [],
   "source": [
    "def get_data_for_visual_4():\n",
    "    \"\"\"Obtain pickup_latitude and pickup_longitude for both Taxi and Uber combined with SQL\n",
    "       Return a single dataframe\n",
    "    \"\"\"\n",
    "    Query4=\"\"\"\n",
    "    SELECT pickup_latitude,pickup_longitude\n",
    "    FROM taxi_trips\n",
    "    UNION ALL\n",
    "    SELECT pickup_latitude,pickup_longitude\n",
    "    FROM uber_trips\n",
    "    \"\"\"\n",
    "\n",
    "    taxi_table4 = pd.read_sql_query(Query4,engine)\n",
    "\n",
    "    return taxi_table4\n",
    "\n"
   ]
  },
  {
   "cell_type": "code",
   "execution_count": 102,
   "id": "Od-3_kWFYWRn",
   "metadata": {
    "id": "Od-3_kWFYWRn"
   },
   "outputs": [],
   "source": [
    "def heat_map_trips(df):\n",
    "    \"\"\"Prepare lat and lon lists from df for mapping\n",
    "       Create the heatmap for all hired trips\n",
    "    \"\"\"\n",
    "\n",
    "    # Prepare lat and lon lists for mapping\n",
    "    lat_lon = df.values.tolist()\n",
    "\n",
    "    # Create maps\n",
    "    map_obj = folium.Map(location = [39,-74], zoom_start = 10)\n",
    "\n",
    "    HeatMap(lat_lon).add_to(map_obj)\n",
    "\n",
    "    return map_obj"
   ]
  },
  {
   "cell_type": "code",
   "execution_count": 126,
   "id": "60323d2e",
   "metadata": {},
   "outputs": [
    {
     "data": {
      "image/jpeg": "[encoded data removed]",
      "text/plain": [
       "<IPython.core.display.Image object>"
      ]
     },
     "execution_count": 126,
     "metadata": {
      "image/jpeg": {
       "width": 1000
      }
     },
     "output_type": "execute_result"
    }
   ],
   "source": [
    "table4 = get_data_for_visual_4()\n",
    "heat_map_trips(table4)"
   ]
  },
  {
   "cell_type": "markdown",
   "id": "kiGJlSTNl5hO",
   "metadata": {
    "id": "kiGJlSTNl5hO"
   },
   "source": [
    "## **Question 5:**\n",
    "\n",
    "We create a scatter plot to compare tip amount and distance for Yellow Taxi rides.\n"
   ]
  },
  {
   "cell_type": "code",
   "execution_count": 104,
   "id": "HhkNPRakl8Rs",
   "metadata": {
    "id": "HhkNPRakl8Rs"
   },
   "outputs": [],
   "source": [
    "def get_data_for_visual_5(): \n",
    "    \"\"\"Obatin tip_amount and distance of Taxi\n",
    "       Pick up samples and remove outliers for clear relationship\n",
    "      Return a single dataframe\n",
    "    \"\"\"\n",
    "    Query5=\"\"\"\n",
    "    SELECT tip_amount,\n",
    "    distance\n",
    "    FROM taxi_trips\n",
    "    \"\"\"\n",
    "  \n",
    "    taxi_table5 = pd.read_sql_query(Query5,engine)\n",
    "\n",
    "    # Remove outliers for clear relationship\n",
    "    taxi_table5 = taxi_table5[taxi_table5['distance']<22]\n",
    "    taxi_table5 = taxi_table5[taxi_table5['tip_amount']<25]\n",
    "    taxi_table5 = taxi_table5[taxi_table5['tip_amount']>0]\n",
    "\n",
    "    # Pick up samples for clear relationship\n",
    "    taxi_table5 = taxi_table5.sample(n=800,replace=False,random_state=None)\n",
    "\n",
    "    return taxi_table5\n",
    "      "
   ]
  },
  {
   "cell_type": "code",
   "execution_count": 105,
   "id": "R7WNE1CfqGUA",
   "metadata": {
    "id": "R7WNE1CfqGUA"
   },
   "outputs": [],
   "source": [
    "def tip_distance_taxi(df):\n",
    "    \"\"\"Create a scatter plt compares tip amount VS distance for Taxi\"\"\"\n",
    "\n",
    "    plt.scatter(df['tip_amount'], df['distance'])\n",
    "    plt.xlabel(\"Taxi_tip_amount\")\n",
    "    plt.ylabel(\"Taxi_distance\")\n",
    "    plt.title('Tip vs Distance For Yellow Taxi')\n",
    "    plt.show()"
   ]
  },
  {
   "cell_type": "code",
   "execution_count": 106,
   "id": "Z0IECuvsoWa2",
   "metadata": {
    "colab": {
     "base_uri": "https://localhost:8080/",
     "height": 296
    },
    "id": "Z0IECuvsoWa2",
    "outputId": "bd7ae5ac-2fa0-4372-87e0-c49c5c5f00d0"
   },
   "outputs": [
    {
     "data": {
      "image/png": "[encoded data removed]",
      "text/plain": [
       "<Figure size 432x288 with 1 Axes>"
      ]
     },
     "metadata": {
      "needs_background": "light"
     },
     "output_type": "display_data"
    }
   ],
   "source": [
    "table5 = get_data_for_visual_5()\n",
    "tip_distance_taxi(table5)"
   ]
  },
  {
   "cell_type": "markdown",
   "id": "nvN88RA5rysk",
   "metadata": {
    "id": "nvN88RA5rysk"
   },
   "source": [
    "## **Question 6:**\n",
    "\n",
    "We create another scatter plot that compares tip amount and precipitation amount for Yellow Taxi rides.\n",
    "\n",
    "Tip amount and precipitation are matched to the hour level of day for accuracy."
   ]
  },
  {
   "cell_type": "code",
   "execution_count": 107,
   "id": "FRo7w2uir0sY",
   "metadata": {
    "id": "FRo7w2uir0sY"
   },
   "outputs": [],
   "source": [
    "def get_data_for_visual_6(): \n",
    "    \"\"\"Obatn specific hour in the day of Taxi and hourly_weather\n",
    "       Return two dataframes called taxi_table6 and weather_table6\n",
    "    \"\"\"\n",
    "    Query61=\"\"\"\n",
    "    SELECT strftime('%Y-%m-%d %H', pickup_datetime) AS hour,tip_amount\n",
    "    FROM taxi_trips\n",
    "    \"\"\"\n",
    "    Query62=\"\"\"\n",
    "    SELECT strftime('%Y-%m-%d %H', DATE) AS hour,HourlyPrecipitation\n",
    "    FROM hourly_weather\n",
    "    \"\"\"\n",
    "\n",
    "    taxi_table6 = pd.read_sql_query(Query61,engine)\n",
    "    weather_table6 = pd.read_sql_query(Query62,engine)\n",
    "\n",
    "    return taxi_table6, weather_table6\n"
   ]
  },
  {
   "cell_type": "code",
   "execution_count": 108,
   "id": "T0_D83WmxH9k",
   "metadata": {
    "id": "T0_D83WmxH9k"
   },
   "outputs": [],
   "source": [
    "def tip_hourly_precipitation_taxi(taxi_table6, weather_table6):\n",
    "    \"\"\"Match the date-hour for Taxi and Precipitation\n",
    "      Remove outliers for clear relationship\n",
    "      Create Scatter plot for visulization (Tip amount and Precipitation relationship for Taxi)\n",
    "    \"\"\"\n",
    "  \n",
    "    # Match the date-hour for Taxi and Precipitation\n",
    "    tip_hourly_precipitation = taxi_table6.merge(weather_table6)\n",
    "\n",
    "    # Remove outliers for clear relationship\n",
    "    tip_hourly_precipitation = tip_hourly_precipitation[tip_hourly_precipitation['tip_amount']<20]\n",
    "\n",
    "    # Scatter plot for visulization\n",
    "    plt.scatter(tip_hourly_precipitation['tip_amount'], tip_hourly_precipitation['HourlyPrecipitation'])\n",
    "    plt.xlabel(\"Taxi_tip_amount\")\n",
    "    plt.ylabel(\"Taxi_HourlyPrecipitation\")\n",
    "    plt.title('Tip vs HourlyPrecipitation For Yellow Taxi')\n",
    "    plt.show()"
   ]
  },
  {
   "cell_type": "code",
   "execution_count": 109,
   "id": "T2PfV_ld63lK",
   "metadata": {
    "colab": {
     "base_uri": "https://localhost:8080/",
     "height": 296
    },
    "id": "T2PfV_ld63lK",
    "outputId": "a5702bf9-8115-4ba9-ef25-bd9bc32a3548"
   },
   "outputs": [
    {
     "data": {
      "image/png": "[encoded data removed]",
      "text/plain": [
       "<Figure size 432x288 with 1 Axes>"
      ]
     },
     "metadata": {
      "needs_background": "light"
     },
     "output_type": "display_data"
    }
   ],
   "source": [
    "taxi_table6, weather_table6 = get_data_for_visual_6()\n",
    "tip_hourly_precipitation_taxi(taxi_table6, weather_table6)"
   ]
  },
  {
   "cell_type": "markdown",
   "id": "YgyBUDjdquhS",
   "metadata": {
    "id": "YgyBUDjdquhS"
   },
   "source": [
    "## **Extra Credit: Using sunset/sunrise data in relation to other tables**\n",
    "\n",
    "Questions: How much is the percentage of uber rides in daylight and night time respectively? (from 2009-01 to 2015-06)\n",
    "\n",
    "Answer: It tunrs out that there are 72333 uber rides in daylight, accounting for 53.8% of the total uber rides; while there are 62220 uber rides at night time, accounting for 47.2% of the total uber rides."
   ]
  },
  {
   "cell_type": "code",
   "execution_count": 115,
   "id": "08d6fd0c",
   "metadata": {},
   "outputs": [],
   "source": [
    "def day_night_percentage(uber_data, sun_data):\n",
    "    \"\"\"\n",
    "    First, merge the uber dataframe and sun dataframe using the common column \"DATE\".\n",
    "    Then, create a new column \"day\" to find out if the uber pickup time is within day or night, using np.where to judge.\n",
    "    Last, create a pie chart the visualize the breakdown of day rides and night rides.\n",
    "    \"\"\"\n",
    "    uber_data['pickup_datetime'] = pd.to_datetime(uber_data['pickup_datetime'])\n",
    "    uber_data['DATE'] = uber_data['pickup_datetime'].dt.date\n",
    "    uber_data = uber_data[['DATE','pickup_datetime']]\n",
    "    sun_data['DATE'] = sun_data['DATE'].dt.date\n",
    "    df = pd.merge(uber_data, sun_data, on='DATE')\n",
    "    df.dropna()\n",
    "    df['day'] = np.where((df['pickup_datetime']>df['Sunrise_minute']) & (df['pickup_datetime']<df['Sunset_minute']),1,0)\n",
    "    \n",
    "    # plot\n",
    "    import matplotlib.pyplot as plt\n",
    "    # Pie chart, where the slices will be ordered and plotted counter-clockwise:\n",
    "    labels = 'Night', 'Day'\n",
    "    sizes = [df['day'].value_counts()[0], df['day'].value_counts()[1]]\n",
    "    fig1, ax1 = plt.subplots()\n",
    "    ax1.pie(sizes, labels=labels, autopct='%1.1f%%',\n",
    "            shadow=True, startangle=90)\n",
    "    ax1.axis('equal')  # Equal aspect ratio ensures that pie is drawn as a circle.\n",
    "    plt.title('day_night_percentage for uber')\n",
    "    plt.legend()\n",
    "    plt.show()\n",
    "\n",
    "    return df['day'].value_counts()"
   ]
  },
  {
   "cell_type": "code",
   "execution_count": 116,
   "id": "f99065d3",
   "metadata": {},
   "outputs": [
    {
     "data": {
      "image/png": "[encoded data removed]",
      "text/plain": [
       "<Figure size 432x288 with 1 Axes>"
      ]
     },
     "metadata": {},
     "output_type": "display_data"
    },
    {
     "data": {
      "text/plain": [
       "1    72333\n",
       "0    62220\n",
       "Name: day, dtype: int64"
      ]
     },
     "execution_count": 116,
     "metadata": {},
     "output_type": "execute_result"
    }
   ],
   "source": [
    "day_night_percentage(uber_data, sun_data)"
   ]
  }
 ],
 "metadata": {
  "colab": {
   "collapsed_sections": [
    "L5mBGlAMgvhx",
    "93daa717",
    "bq7HMn8zh6gV",
    "dasOrlNjkqjo",
    "jTOynVRdpn-C",
    "ee70a777",
    "in4QWVAssQRF",
    "1ox0wTrjsssD",
    "NeY8iwbWstOK",
    "TbaLb-xtstuN",
    "Ag-okVqUu_yy",
    "iOeMqQNUeeoY",
    "uBTG9luxNHBO",
    "gJh-Evibd_sl",
    "Z_F4VDcmeF9s",
    "nvN88RA5rysk"
   ],
   "provenance": []
  },
  "kernelspec": {
   "display_name": "Python 3 (ipykernel)",
   "language": "python",
   "name": "python3"
  },
  "language_info": {
   "codemirror_mode": {
    "name": "ipython",
    "version": 3
   },
   "file_extension": ".py",
   "mimetype": "text/x-python",
   "name": "python",
   "nbconvert_exporter": "python",
   "pygments_lexer": "ipython3",
   "version": "3.9.7"
  }
 },
 "nbformat": 4,
 "nbformat_minor": 5
}
